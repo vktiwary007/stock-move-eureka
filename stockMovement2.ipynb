{
  "nbformat": 4,
  "nbformat_minor": 0,
  "metadata": {
    "colab": {
      "name": "stockMovement2.ipynb",
      "provenance": [],
      "authorship_tag": "ABX9TyMXAV6oPaCk0S9eH8zUuU3K",
      "include_colab_link": true
    },
    "kernelspec": {
      "name": "python3",
      "display_name": "Python 3"
    },
    "language_info": {
      "name": "python"
    }
  },
  "cells": [
    {
      "cell_type": "markdown",
      "metadata": {
        "id": "view-in-github",
        "colab_type": "text"
      },
      "source": [
        "<a href=\"https://colab.research.google.com/github/vktiwary007/stock-move-eureka/blob/main/stockMovement2.ipynb\" target=\"_parent\"><img src=\"https://colab.research.google.com/assets/colab-badge.svg\" alt=\"Open In Colab\"/></a>"
      ]
    },
    {
      "cell_type": "code",
      "metadata": {
        "id": "yt_cE5Bm2HTx",
        "colab": {
          "base_uri": "https://localhost:8080/"
        },
        "outputId": "43f9aa40-8fe0-41e2-dde2-dbc432137593"
      },
      "source": [
        "import numpy as np\n",
        "import pandas as pd\n",
        "\n",
        "import tensorflow as tf\n",
        "import tensorflow_hub as hub\n",
        "import tensorflow_datasets as tfds\n",
        "\n",
        "import matplotlib.pyplot as plt\n",
        "\n",
        "print(\"Version: \", tf.__version__)\n",
        "print(\"Eager mode: \", tf.executing_eagerly())\n",
        "print(\"Hub version: \", hub.__version__)\n",
        "print(\"GPU is\", \"available\" if tf.config.list_physical_devices('GPU') else \"NOT AVAILABLE\")"
      ],
      "execution_count": 1,
      "outputs": [
        {
          "output_type": "stream",
          "text": [
            "Version:  2.4.1\n",
            "Eager mode:  True\n",
            "Hub version:  0.11.0\n",
            "GPU is NOT AVAILABLE\n"
          ],
          "name": "stdout"
        }
      ]
    },
    {
      "cell_type": "code",
      "metadata": {
        "id": "mhtkn5qPHLTA"
      },
      "source": [
        "import io\n",
        "#df = pd.read_csv('Apple60.csv', skiprows=0)\n",
        "\n",
        "from sklearn.model_selection import train_test_split\n",
        "data = pd.read_csv('Apple60.csv', sep=',', header=0)\n",
        "train_df, test_df = train_test_split(data, test_size=0.2, random_state=42, shuffle=True)"
      ],
      "execution_count": 2,
      "outputs": []
    },
    {
      "cell_type": "code",
      "metadata": {
        "colab": {
          "base_uri": "https://localhost:8080/",
          "height": 359
        },
        "id": "4Qhd_OSJH9TD",
        "outputId": "5dd62984-8444-48d3-e76f-d1dd346d45ff"
      },
      "source": [
        "data[:10]"
      ],
      "execution_count": 23,
      "outputs": [
        {
          "output_type": "execute_result",
          "data": {
            "text/html": [
              "<div>\n",
              "<style scoped>\n",
              "    .dataframe tbody tr th:only-of-type {\n",
              "        vertical-align: middle;\n",
              "    }\n",
              "\n",
              "    .dataframe tbody tr th {\n",
              "        vertical-align: top;\n",
              "    }\n",
              "\n",
              "    .dataframe thead th {\n",
              "        text-align: right;\n",
              "    }\n",
              "</style>\n",
              "<table border=\"1\" class=\"dataframe\">\n",
              "  <thead>\n",
              "    <tr style=\"text-align: right;\">\n",
              "      <th></th>\n",
              "      <th>Source</th>\n",
              "      <th>News</th>\n",
              "      <th>Movement</th>\n",
              "    </tr>\n",
              "  </thead>\n",
              "  <tbody>\n",
              "    <tr>\n",
              "      <th>0</th>\n",
              "      <td>www.businesswire.com</td>\n",
              "      <td>NAPE Summit Week will also feature the annual ...</td>\n",
              "      <td>1</td>\n",
              "    </tr>\n",
              "    <tr>\n",
              "      <th>1</th>\n",
              "      <td>seekingalpha.com</td>\n",
              "      <td>Bearish Calls Lumentum (NASDAQ: LITE ): It's a...</td>\n",
              "      <td>0</td>\n",
              "    </tr>\n",
              "    <tr>\n",
              "      <th>2</th>\n",
              "      <td>seekingalpha.com</td>\n",
              "      <td>The areas to be concerned are that there are f...</td>\n",
              "      <td>1</td>\n",
              "    </tr>\n",
              "    <tr>\n",
              "      <th>3</th>\n",
              "      <td>seekingalpha.com</td>\n",
              "      <td>Amazon will soon resume selling the Apple TV (...</td>\n",
              "      <td>1</td>\n",
              "    </tr>\n",
              "    <tr>\n",
              "      <th>4</th>\n",
              "      <td>seekingalpha.com</td>\n",
              "      <td>With such a large revenue pie, naturally we be...</td>\n",
              "      <td>0</td>\n",
              "    </tr>\n",
              "    <tr>\n",
              "      <th>5</th>\n",
              "      <td>seekingalpha.com</td>\n",
              "      <td>Facing questions from tech analysts, Apple (NA...</td>\n",
              "      <td>0</td>\n",
              "    </tr>\n",
              "    <tr>\n",
              "      <th>6</th>\n",
              "      <td>www.thestreet.com</td>\n",
              "      <td>Cramer and the AAP team say investors need to ...</td>\n",
              "      <td>0</td>\n",
              "    </tr>\n",
              "    <tr>\n",
              "      <th>7</th>\n",
              "      <td>seekingalpha.com</td>\n",
              "      <td>One day after Apple acknowledged that it has b...</td>\n",
              "      <td>0</td>\n",
              "    </tr>\n",
              "    <tr>\n",
              "      <th>8</th>\n",
              "      <td>www.thestreet.com</td>\n",
              "      <td>1 . -- U.S. stock futures turned lower on Tues...</td>\n",
              "      <td>0</td>\n",
              "    </tr>\n",
              "    <tr>\n",
              "      <th>9</th>\n",
              "      <td>seekingalpha.com</td>\n",
              "      <td>Meanwhile, eight more lawsuits have been filed...</td>\n",
              "      <td>0</td>\n",
              "    </tr>\n",
              "  </tbody>\n",
              "</table>\n",
              "</div>"
            ],
            "text/plain": [
              "                 Source  ... Movement\n",
              "0  www.businesswire.com  ...        1\n",
              "1      seekingalpha.com  ...        0\n",
              "2      seekingalpha.com  ...        1\n",
              "3      seekingalpha.com  ...        1\n",
              "4      seekingalpha.com  ...        0\n",
              "5      seekingalpha.com  ...        0\n",
              "6     www.thestreet.com  ...        0\n",
              "7      seekingalpha.com  ...        0\n",
              "8     www.thestreet.com  ...        0\n",
              "9      seekingalpha.com  ...        0\n",
              "\n",
              "[10 rows x 3 columns]"
            ]
          },
          "metadata": {
            "tags": []
          },
          "execution_count": 23
        }
      ]
    },
    {
      "cell_type": "code",
      "metadata": {
        "colab": {
          "base_uri": "https://localhost:8080/"
        },
        "id": "4_zH1sgphjJ7",
        "outputId": "12f5ef6b-aaa5-41dd-d142-067e928207b5"
      },
      "source": [
        "from sklearn.utils import shuffle\n",
        "from keras.preprocessing.text import Tokenizer\n",
        "from keras.preprocessing.sequence import pad_sequences\n",
        "\n",
        "from tqdm import tqdm\n",
        "import re\n",
        "import nltk\n",
        "nltk.download('stopwords')\n",
        "nltk.download('punkt')\n",
        "from nltk.corpus import stopwords\n",
        "from nltk.stem.porter import PorterStemmer\n",
        "from nltk.tokenize import word_tokenize\n",
        "\n",
        "MAX_NB_WORDS = 1000\n",
        "max_seq_len = 100\n",
        "\n",
        "raw_docs_train = train_df['News'].tolist()\n",
        "raw_docs_test = test_df['News'].tolist()\n",
        "\n",
        "num_classes = 2\n",
        "processed_docs_train = []\n",
        "\n",
        "stop_words = set(stopwords.words('english'))\n",
        "\n",
        "for doc in tqdm(raw_docs_train):\n",
        "  tokens = word_tokenize(doc)\n",
        "  filtered = [word for word in tokens if word not in stop_words]\n",
        "  processed_docs_train.append(\" \".join(filtered))\n",
        "processed_docs_test = []\n",
        "\n",
        "for doc in tqdm(raw_docs_test):\n",
        "  tokens = word_tokenize(doc)\n",
        "  filtered = [word for word in tokens if word not in stop_words]\n",
        "  processed_docs_test.append(\" \".join(filtered))\n",
        "\n",
        "tokenizer = Tokenizer(num_words=MAX_NB_WORDS, lower=True, char_level=False)\n",
        "tokenizer.fit_on_texts(processed_docs_train + processed_docs_test)  \n",
        "\n",
        "word_seq_train = tokenizer.texts_to_sequences(processed_docs_train)\n",
        "word_seq_test = tokenizer.texts_to_sequences(processed_docs_test)\n",
        "word_index = tokenizer.word_index\n",
        "\n",
        "word_seq_train = pad_sequences(word_seq_train, maxlen=max_seq_len)\n",
        "word_seq_test = pad_sequences(word_seq_test, maxlen=max_seq_len)"
      ],
      "execution_count": 3,
      "outputs": [
        {
          "output_type": "stream",
          "text": [
            "  0%|          | 79/31801 [00:00<00:45, 691.84it/s]"
          ],
          "name": "stderr"
        },
        {
          "output_type": "stream",
          "text": [
            "[nltk_data] Downloading package stopwords to /root/nltk_data...\n",
            "[nltk_data]   Package stopwords is already up-to-date!\n",
            "[nltk_data] Downloading package punkt to /root/nltk_data...\n",
            "[nltk_data]   Package punkt is already up-to-date!\n"
          ],
          "name": "stdout"
        },
        {
          "output_type": "stream",
          "text": [
            "100%|██████████| 31801/31801 [00:37<00:00, 846.05it/s]\n",
            "100%|██████████| 7951/7951 [00:09<00:00, 839.31it/s]\n"
          ],
          "name": "stderr"
        }
      ]
    },
    {
      "cell_type": "code",
      "metadata": {
        "colab": {
          "base_uri": "https://localhost:8080/"
        },
        "id": "1qzxfGCAcZHT",
        "outputId": "3488d6b5-e1ba-487b-da4e-ea16a6fda49c"
      },
      "source": [
        "import requests, zipfile, io\n",
        "zip_file_url = \"https://nlp.stanford.edu/data/glove.840B.300d.zip\"\n",
        "r = requests.get(zip_file_url)\n",
        "z = zipfile.ZipFile(io.BytesIO(r.content))\n",
        "z.extractall()\n",
        "\n",
        "print(\"GloVE available locally\")"
      ],
      "execution_count": 38,
      "outputs": [
        {
          "output_type": "stream",
          "text": [
            "GloVE available locally\n"
          ],
          "name": "stdout"
        }
      ]
    },
    {
      "cell_type": "code",
      "metadata": {
        "colab": {
          "base_uri": "https://localhost:8080/"
        },
        "id": "XBKql0OIg5eW",
        "outputId": "255b077a-4043-4879-8fd6-52989db2674d"
      },
      "source": [
        "import codecs\n",
        "\n",
        "embeddings_index = {}\n",
        "#f = codecs.open(‘crawl-300d-2M.vec’, encoding=’utf-8')\n",
        "# for Glove\n",
        "f = codecs.open('glove.840B.300d.txt', encoding='utf-8')\n",
        "for line in tqdm(f):\n",
        "  values = line.rstrip().rsplit(' ')\n",
        "  word = values[0]\n",
        "  coefs = np.asarray(values[1:], dtype='float32')\n",
        "  embeddings_index[word] = coefs\n",
        "f.close()"
      ],
      "execution_count": 5,
      "outputs": [
        {
          "output_type": "stream",
          "text": [
            "2196018it [04:31, 8074.50it/s]\n"
          ],
          "name": "stderr"
        }
      ]
    },
    {
      "cell_type": "code",
      "metadata": {
        "colab": {
          "base_uri": "https://localhost:8080/"
        },
        "id": "sMgIvoyrNiTA",
        "outputId": "f01c04b2-38ff-400d-bb6c-36030b1d492c"
      },
      "source": [
        "model = \"https://tfhub.dev/google/nnlm-en-dim50/2\"\n",
        "hub_layer = hub.KerasLayer(model, input_shape=[], dtype=tf.string, trainable=True)\n",
        "hub_layer(train_examples[:3])"
      ],
      "execution_count": 12,
      "outputs": [
        {
          "output_type": "execute_result",
          "data": {
            "text/plain": [
              "<tf.Tensor: shape=(3, 50), dtype=float32, numpy=\n",
              "array([[ 0.11821563, -0.38141903, -0.00576665,  0.4024705 , -0.4506181 ,\n",
              "        -0.49942222,  0.7247262 ,  0.37873062,  0.67162323,  0.1313145 ,\n",
              "         0.21069519,  0.37749547,  0.39727092, -0.77833736,  0.8862999 ,\n",
              "        -0.66263425, -0.40579197,  0.14556947,  0.1540871 ,  0.57739764,\n",
              "        -0.39237094, -0.39210856,  0.40515414,  0.2835647 ,  0.71169597,\n",
              "         0.28195596, -0.39363083,  0.19764623, -0.28529963, -0.02440625,\n",
              "         0.07258959,  0.00366513,  0.74614835, -0.4447853 , -0.18952131,\n",
              "         0.1531296 ,  0.37783742, -0.60432875, -0.13870297, -0.42431712,\n",
              "        -0.6368046 , -0.23387073,  0.10721027,  0.60974413, -0.10874098,\n",
              "        -0.84399396,  0.13302684,  0.29855415,  0.3308882 ,  0.18879387],\n",
              "       [ 0.1564894 , -0.23767409, -0.26291662,  0.18460633, -0.41442817,\n",
              "        -0.5455462 , -0.10182314,  0.4068529 ,  0.23047605,  0.3656314 ,\n",
              "        -0.12204684,  0.34686607,  0.6008024 , -0.31858292,  0.30129915,\n",
              "         0.08938712, -0.29635045, -0.14741579, -0.01242614,  0.11724982,\n",
              "        -0.5532667 ,  0.08706126,  0.7452008 ,  0.36801672, -0.14728934,\n",
              "         0.1267597 , -0.6671586 , -0.0981485 ,  0.41605875, -0.06534816,\n",
              "         0.31608889,  0.1270298 ,  0.43321717, -0.79752666,  0.03543565,\n",
              "        -0.4291056 ,  0.18580414, -0.66505444, -0.5424944 , -0.5922364 ,\n",
              "        -0.32469878,  0.31202552,  0.5391578 ,  0.5824559 ,  0.34340236,\n",
              "        -1.081424  , -0.34986508,  0.5145549 ,  0.9219053 ,  0.6450046 ],\n",
              "       [-0.03436578, -0.21334486, -0.41987914,  0.0890676 , -0.5530408 ,\n",
              "         0.01704658,  0.18030795,  0.00350811,  0.24246368, -0.06462281,\n",
              "         0.07903361, -0.05343262,  0.0340981 , -0.6626263 ,  0.13871898,\n",
              "         0.07250899,  0.16408634,  0.5284101 ,  0.2888579 , -0.1917974 ,\n",
              "        -0.44803622, -0.3088733 ,  0.3542083 ,  0.02805678, -0.3866595 ,\n",
              "         0.17200936, -0.5022852 , -0.29524904, -0.12818138,  0.42295703,\n",
              "         0.22578873,  0.3351916 ,  0.1974928 , -0.35638773, -0.07355153,\n",
              "         0.02236489,  0.07992747,  0.11997179, -0.07644616, -0.0023566 ,\n",
              "        -0.3655042 ,  0.14053206,  0.20717388,  0.19725925, -0.27432463,\n",
              "        -0.3043777 , -0.80141675, -0.3681247 ,  0.59893364,  0.3261345 ]],\n",
              "      dtype=float32)>"
            ]
          },
          "metadata": {
            "tags": []
          },
          "execution_count": 12
        }
      ]
    },
    {
      "cell_type": "code",
      "metadata": {
        "id": "esSJoZRNOeNp",
        "colab": {
          "base_uri": "https://localhost:8080/"
        },
        "outputId": "a2de249b-d5d5-4192-e90f-18c9f42d2bde"
      },
      "source": [
        "words_not_found = []\n",
        "embed_dim = 300\n",
        "nb_words = min(MAX_NB_WORDS, len(word_index)+1)\n",
        "embedding_matrix = np.zeros((nb_words, embed_dim))\n",
        "for word, i in word_index.items():\n",
        "  if i >= nb_words:\n",
        "     continue\n",
        "  embedding_vector = embeddings_index.get(word)\n",
        "  \n",
        "  if (embedding_vector is not None) and len(embedding_vector) > 0:\n",
        "     embedding_matrix[i] = embedding_vector\n",
        "  else:\n",
        "     words_not_found.append(word)\n",
        "print('number of null word embeddings: %d' % np.sum(np.sum(embedding_matrix, axis=1) == 0))"
      ],
      "execution_count": 6,
      "outputs": [
        {
          "output_type": "stream",
          "text": [
            "number of null word embeddings: 18\n"
          ],
          "name": "stdout"
        }
      ]
    },
    {
      "cell_type": "code",
      "metadata": {
        "id": "bIKBjnkIO1R9",
        "colab": {
          "base_uri": "https://localhost:8080/"
        },
        "outputId": "064b16ed-a35e-47e9-8bd6-9adc51f61897"
      },
      "source": [
        "from keras.layers import BatchNormalization\n",
        "from keras.layers import Embedding, Bidirectional, Dense, Dropout, LSTM, Flatten, Conv1D, MaxPooling1D, Activation\n",
        "from keras.initializers import Constant\n",
        "\n",
        "model = tf.keras.Sequential()\n",
        "model.add(Embedding(nb_words, embed_dim, input_length=max_seq_len, weights=[embedding_matrix],trainable=False))\n",
        "model.add(Dropout(0.2))\n",
        "model.add(Conv1D(64, 5, activation='relu'))\n",
        "model.add(MaxPooling1D(pool_size=4))\n",
        "model.add(LSTM(100))\n",
        "model.add(Dense(2, activation='sigmoid'))\n",
        "model.summary()"
      ],
      "execution_count": 9,
      "outputs": [
        {
          "output_type": "stream",
          "text": [
            "Model: \"sequential_1\"\n",
            "_________________________________________________________________\n",
            "Layer (type)                 Output Shape              Param #   \n",
            "=================================================================\n",
            "embedding_1 (Embedding)      (None, 100, 300)          300000    \n",
            "_________________________________________________________________\n",
            "dropout_1 (Dropout)          (None, 100, 300)          0         \n",
            "_________________________________________________________________\n",
            "conv1d (Conv1D)              (None, 96, 64)            96064     \n",
            "_________________________________________________________________\n",
            "max_pooling1d (MaxPooling1D) (None, 24, 64)            0         \n",
            "_________________________________________________________________\n",
            "lstm_1 (LSTM)                (None, 100)               66000     \n",
            "_________________________________________________________________\n",
            "dense_2 (Dense)              (None, 2)                 202       \n",
            "=================================================================\n",
            "Total params: 462,266\n",
            "Trainable params: 162,266\n",
            "Non-trainable params: 300,000\n",
            "_________________________________________________________________\n"
          ],
          "name": "stdout"
        }
      ]
    },
    {
      "cell_type": "code",
      "metadata": {
        "id": "zBbc9vMcO5qm",
        "colab": {
          "base_uri": "https://localhost:8080/"
        },
        "outputId": "39b0d5b7-35e5-4001-e11a-55100b955e95"
      },
      "source": [
        "from keras.optimizers import RMSprop\n",
        "from keras.callbacks import ModelCheckpoint\n",
        "from tensorflow.keras.callbacks import EarlyStopping\n",
        "from keras.utils import to_categorical\n",
        "\n",
        "labels = to_categorical(np.asarray(train_df['Movement']))\n",
        "y_train = np.array(train_df['Movement'])\n",
        "\n",
        "print(labels.shape)\n",
        "\n",
        "model.compile(loss='binary_crossentropy', optimizer='adam', metrics=['accuracy'])\n",
        "es_callback = EarlyStopping(monitor='val_loss', patience=3)\n",
        "history = model.fit(word_seq_train, np.array(labels), epochs=10, validation_split=0.3)"
      ],
      "execution_count": 14,
      "outputs": [
        {
          "output_type": "stream",
          "text": [
            "(31801, 2)\n",
            "Epoch 1/10\n",
            "895/895 [==============================] - 70s 75ms/step - loss: 0.6951 - accuracy: 0.5085 - val_loss: 0.6926 - val_accuracy: 0.5086\n",
            "Epoch 2/10\n",
            "895/895 [==============================] - 67s 75ms/step - loss: 0.6906 - accuracy: 0.5316 - val_loss: 0.6947 - val_accuracy: 0.5017\n",
            "Epoch 3/10\n",
            "895/895 [==============================] - 67s 75ms/step - loss: 0.6839 - accuracy: 0.5529 - val_loss: 0.6967 - val_accuracy: 0.5115\n",
            "Epoch 4/10\n",
            "895/895 [==============================] - 68s 76ms/step - loss: 0.6664 - accuracy: 0.5818 - val_loss: 0.7030 - val_accuracy: 0.5187\n",
            "Epoch 5/10\n",
            "895/895 [==============================] - 68s 76ms/step - loss: 0.6389 - accuracy: 0.6169 - val_loss: 0.7296 - val_accuracy: 0.5124\n",
            "Epoch 6/10\n",
            "895/895 [==============================] - 68s 76ms/step - loss: 0.6044 - accuracy: 0.6531 - val_loss: 0.7475 - val_accuracy: 0.5247\n",
            "Epoch 7/10\n",
            "895/895 [==============================] - 67s 75ms/step - loss: 0.5776 - accuracy: 0.6627 - val_loss: 0.7918 - val_accuracy: 0.5159\n",
            "Epoch 8/10\n",
            "895/895 [==============================] - 68s 76ms/step - loss: 0.5539 - accuracy: 0.6804 - val_loss: 0.8104 - val_accuracy: 0.5137\n",
            "Epoch 9/10\n",
            "895/895 [==============================] - 68s 76ms/step - loss: 0.5359 - accuracy: 0.6957 - val_loss: 0.8617 - val_accuracy: 0.5140\n",
            "Epoch 10/10\n",
            "895/895 [==============================] - 68s 76ms/step - loss: 0.5166 - accuracy: 0.7103 - val_loss: 0.8348 - val_accuracy: 0.5215\n"
          ],
          "name": "stdout"
        }
      ]
    },
    {
      "cell_type": "code",
      "metadata": {
        "colab": {
          "base_uri": "https://localhost:8080/"
        },
        "id": "p-U0o9YM9SvY",
        "outputId": "201bb079-18d0-42ed-ad7d-b82ff07457ec"
      },
      "source": [
        "df_test = pd.read_csv('Apple60_Major.csv', skiprows=0)\n",
        "#print(df_test.iloc[:, -1].values)\n",
        "df_test[\"Movement\"].replace({-1: 0}, inplace=True)\n",
        "#test_data = np.array(hub_layer(df_test[\"News\"]))\n",
        "\n",
        "#model.predict(word_seq_test)\n"
      ],
      "execution_count": 17,
      "outputs": [
        {
          "output_type": "execute_result",
          "data": {
            "text/plain": [
              "array([[0.86559093, 0.14475647],\n",
              "       [0.15704784, 0.8414612 ],\n",
              "       [0.4064761 , 0.5890338 ],\n",
              "       ...,\n",
              "       [0.6626729 , 0.29772514],\n",
              "       [0.5685262 , 0.44615674],\n",
              "       [0.97659117, 0.02298823]], dtype=float32)"
            ]
          },
          "metadata": {
            "tags": []
          },
          "execution_count": 17
        }
      ]
    },
    {
      "cell_type": "code",
      "metadata": {
        "colab": {
          "base_uri": "https://localhost:8080/"
        },
        "id": "FKmnnMz5eUUW",
        "outputId": "0380f6c4-31e6-46a8-8ad7-b6ccecd24c5f"
      },
      "source": [
        "classifier.fit(hub_layer(train_examples), y_train)"
      ],
      "execution_count": 14,
      "outputs": [
        {
          "output_type": "execute_result",
          "data": {
            "text/plain": [
              "DecisionTreeClassifier(ccp_alpha=0.0, class_weight=None, criterion='gini',\n",
              "                       max_depth=None, max_features=None, max_leaf_nodes=None,\n",
              "                       min_impurity_decrease=0.0, min_impurity_split=None,\n",
              "                       min_samples_leaf=1, min_samples_split=2,\n",
              "                       min_weight_fraction_leaf=0.0, presort='deprecated',\n",
              "                       random_state=None, splitter='best')"
            ]
          },
          "metadata": {
            "tags": []
          },
          "execution_count": 14
        }
      ]
    },
    {
      "cell_type": "code",
      "metadata": {
        "colab": {
          "base_uri": "https://localhost:8080/"
        },
        "id": "LP8UvPdTPD-B",
        "outputId": "0f72a162-fddb-4cf3-dbaf-3c311a9a7557"
      },
      "source": [
        "test_val = np.array(hub_layer(test_examples))\n",
        "\n",
        "print(test_val[:10])"
      ],
      "execution_count": 15,
      "outputs": [
        {
          "output_type": "stream",
          "text": [
            "[[ 7.12334439e-02 -2.19031528e-01 -3.48590881e-01  6.60696998e-02\n",
            "  -2.29958817e-01  7.51711577e-02  2.24154130e-01 -7.20842257e-02\n",
            "   2.02052578e-01 -1.01056278e-01  7.60269165e-02  3.42676282e-01\n",
            "   1.45717617e-02 -1.11079566e-01  2.40788341e-01  3.22015166e-01\n",
            "   3.21642533e-02  4.52669293e-01 -4.55906130e-02  7.85075128e-02\n",
            "  -2.53289223e-01 -3.95622551e-02  7.34008774e-02 -1.27158761e-01\n",
            "  -3.28406431e-02 -1.25006929e-01 -1.13356918e-01 -1.37009054e-01\n",
            "  -1.14342615e-01  1.74757615e-01  4.26033974e-01  2.72094667e-01\n",
            "   2.08017919e-02 -1.73620842e-02 -9.12332609e-02 -5.83611280e-02\n",
            "   2.32044682e-01 -1.27907902e-01 -1.25517219e-01  1.08377382e-01\n",
            "   1.78981408e-01 -1.01789393e-01  1.29062980e-01  6.44956753e-02\n",
            "   3.99186090e-02 -7.44161531e-02 -2.62955695e-01  1.67494416e-01\n",
            "   3.06270093e-01  6.16518974e-01]\n",
            " [ 5.83040491e-02  1.55362993e-01 -8.57881233e-02 -1.51026607e-01\n",
            "  -2.49560565e-01 -1.71633616e-01  6.98898435e-01  3.78702611e-01\n",
            "  -4.60917428e-02  1.72753289e-01 -1.91557854e-02 -3.09266541e-02\n",
            "   2.50962377e-01 -4.14606184e-01  7.66215101e-02 -3.03756714e-01\n",
            "  -1.60385907e-01  6.14773668e-02  1.49992391e-01 -1.90365404e-01\n",
            "   8.20458494e-03 -1.85621843e-01  3.50604028e-01 -7.60479793e-02\n",
            "  -5.86317703e-02  4.47519422e-01 -1.32074177e-01  9.40143391e-02\n",
            "   1.70876309e-01 -3.67589407e-02  1.48280159e-01 -3.76179554e-02\n",
            "   3.57450008e-01 -3.29315990e-01  3.49330716e-02 -2.23996177e-01\n",
            "   1.44118711e-01 -1.78653777e-01  4.55147475e-02 -2.08769962e-01\n",
            "  -2.71345347e-01  8.50423500e-02  1.75833657e-01  3.01196575e-01\n",
            "  -2.67760772e-02 -4.65119094e-01  9.91541799e-03  2.05516458e-01\n",
            "   8.38099048e-03  5.14300317e-02]\n",
            " [ 5.14939487e-01 -4.47226465e-01  1.40663847e-01  3.17506582e-01\n",
            "  -8.30443382e-01 -6.03048205e-01  9.58002627e-01  7.40503013e-01\n",
            "  -3.58522177e-01  2.02649340e-01 -1.03255248e+00  1.01479793e+00\n",
            "   1.52893558e-01 -6.19805992e-01 -2.57070869e-01 -7.24892676e-01\n",
            "  -6.32321894e-01 -2.17436299e-01  5.33681929e-01 -6.31190956e-01\n",
            "  -3.29923779e-01 -5.71572304e-01  1.54497802e+00  4.75397021e-01\n",
            "  -2.92007595e-01  1.27504873e+00 -1.46786189e+00  5.84729075e-01\n",
            "  -2.78018862e-01 -6.44349754e-01  2.80681718e-02  1.76970959e-02\n",
            "   1.38296509e+00 -1.20532918e+00 -2.37664178e-01 -3.07384074e-01\n",
            "   3.49301904e-01 -6.88259721e-01  1.88704044e-01 -1.39140368e+00\n",
            "  -5.86194277e-01  9.73480999e-01  1.75482722e-03  1.37607086e+00\n",
            "  -2.56792158e-01 -1.01852870e+00 -3.92978519e-01 -3.10867429e-02\n",
            "   7.22436130e-01  5.93010247e-01]\n",
            " [ 1.12434253e-01 -7.29720533e-01 -1.43309042e-01  1.98868632e-01\n",
            "  -8.48038197e-02 -3.45315188e-01  6.58771396e-01  3.05948704e-01\n",
            "   3.95744741e-01  1.71073496e-01 -2.40099564e-01  4.18379843e-01\n",
            "   3.32580566e-01 -5.82404137e-01  5.47479093e-01 -3.35816503e-01\n",
            "   5.45005016e-02  5.82627773e-01  1.43951207e-01  2.99393803e-01\n",
            "  -2.62032002e-01 -4.44530874e-01  1.92932814e-01  4.14557397e-01\n",
            "   9.76854563e-02  2.63700098e-01 -1.68620884e-01  1.15458108e-01\n",
            "  -5.22074938e-01 -8.94489407e-04  5.50205231e-01 -1.99059606e-01\n",
            "   3.49096864e-01 -7.61090040e-01 -2.18988657e-01 -8.03666711e-02\n",
            "   2.27658257e-01 -3.81838471e-01 -2.25552157e-01 -2.86824465e-01\n",
            "  -4.28053558e-01 -4.85986061e-02 -3.50221083e-03  9.43178713e-01\n",
            "   1.14031240e-01 -5.39934874e-01 -2.12902382e-01  2.13889182e-01\n",
            "   2.30023414e-01  1.97062597e-01]\n",
            " [ 1.29408702e-01 -4.98056591e-01 -4.44523841e-01  7.00240284e-02\n",
            "   2.32086897e-01 -1.97705746e-01  2.78945893e-01  1.72446102e-01\n",
            "   2.43560523e-01  1.73305064e-01  1.29117399e-01  1.80902869e-01\n",
            "  -8.18405300e-02 -1.26977503e-01  6.46907091e-02  1.01472616e-01\n",
            "   1.22518562e-01  2.94278383e-01  1.76092893e-01 -1.33173366e-03\n",
            "  -1.65434346e-01 -1.02791809e-01  3.64151269e-01  3.09823006e-01\n",
            "  -1.50878340e-01  5.26340157e-02 -6.73252568e-02  1.53961018e-01\n",
            "  -5.70341758e-02  2.33687297e-01  1.53494626e-01  1.00273184e-01\n",
            "   1.59758165e-01 -1.47449136e-01  8.78566038e-03  2.44342774e-01\n",
            "   6.13838919e-02 -3.00979894e-02 -1.68913245e-01  1.67553023e-01\n",
            "  -2.52361774e-01  2.10073262e-01  1.29387468e-01  2.37762526e-01\n",
            "   5.02961241e-02 -5.72171994e-02 -2.23445669e-01  1.77926287e-01\n",
            "   3.47606689e-01  4.54905570e-01]\n",
            " [ 1.73683926e-01 -4.05771285e-01 -3.73485059e-01 -2.44004235e-01\n",
            "   3.94697636e-02 -6.74777254e-02  5.14152169e-01  3.87726605e-01\n",
            "   8.52269866e-03 -4.69309501e-02  1.20879382e-01 -1.25637194e-02\n",
            "   2.12195247e-01 -4.89357114e-02  8.91293660e-02 -2.33398482e-01\n",
            "   6.18415419e-03  4.06333655e-01  3.39346856e-01  2.21813485e-01\n",
            "  -2.91168064e-01  1.26104970e-02  1.27868280e-01 -2.85154935e-02\n",
            "  -5.19124083e-02  1.50684014e-01  2.43077293e-01 -8.88852030e-02\n",
            "   1.10568330e-01  6.14999793e-03  4.99987781e-01  5.57218771e-03\n",
            "   3.80098701e-01 -9.47903320e-02 -4.12955619e-02 -1.87931761e-01\n",
            "   8.52530822e-02 -8.22977908e-03 -1.16618678e-01 -1.69355214e-01\n",
            "  -1.99586555e-01  7.61420950e-02 -3.88560183e-02  5.58137596e-01\n",
            "   6.69015497e-02 -2.21445292e-01 -2.04835786e-03  2.08117813e-01\n",
            "   1.55532211e-01  1.51762322e-01]\n",
            " [-1.25989048e-02 -5.91915727e-01 -5.07682562e-01  4.14854512e-02\n",
            "  -6.86516836e-02 -8.52296576e-02  3.59485120e-01  2.57703662e-01\n",
            "   3.43973100e-01  1.81803793e-01 -3.56136799e-01  2.90511996e-01\n",
            "   4.05457258e-01 -1.66249901e-01  2.42420092e-01 -1.00380085e-01\n",
            "  -1.07439741e-01  4.16619509e-01  1.89681098e-01 -3.44196521e-02\n",
            "   2.12585013e-02 -2.83617619e-02  2.23246351e-01  2.38726437e-01\n",
            "   7.52920937e-03 -4.30150107e-02  8.35820939e-03  1.18283413e-01\n",
            "  -1.68165311e-01  5.01631081e-01  4.58078176e-01 -4.42943089e-02\n",
            "   1.99712440e-01 -2.57137150e-01  1.47132427e-01  1.73752144e-01\n",
            "  -1.69603899e-02 -3.53585690e-01 -2.47400582e-01  4.34082657e-01\n",
            "  -8.98457542e-02 -1.00200772e-01  6.87738955e-02  4.67304051e-01\n",
            "   1.31027222e-01 -1.11377507e-01 -2.65088916e-01  2.09256083e-01\n",
            "   1.50382102e-01  4.81519759e-01]\n",
            " [ 5.39815068e-01 -1.21846616e-01 -4.43170786e-01  7.69456983e-01\n",
            "  -4.39558029e-01 -1.96142867e-01  3.95215899e-01 -3.48758459e-01\n",
            "  -5.67515850e-01  1.21447511e-01 -1.33678883e-01  3.59157771e-01\n",
            "   2.15771496e-01  3.06331739e-02 -4.08870667e-01 -3.63642335e-01\n",
            "  -3.45222503e-01  3.16028565e-01  3.57868403e-01 -6.12593889e-01\n",
            "  -2.88345724e-01 -4.18355018e-01  7.79445767e-01  3.37014526e-01\n",
            "  -5.07411718e-01  7.93556511e-01 -1.58148265e+00 -1.29644230e-01\n",
            "   2.08674535e-01  3.79824370e-01 -1.45182431e-01  1.70121238e-01\n",
            "   5.60016453e-01 -1.00846314e+00 -3.51713061e-01  8.62624496e-02\n",
            "   3.67003173e-01  1.18879914e-01  1.81122169e-01 -7.77079940e-01\n",
            "   1.45994335e-01  4.65139240e-01 -2.63395518e-01  2.31547311e-01\n",
            "  -4.39652950e-01 -3.96799237e-01 -7.44590998e-01 -6.68436766e-01\n",
            "   6.76127493e-01  6.50026858e-01]\n",
            " [ 1.99818388e-01 -1.99849501e-01 -2.21935049e-01  1.03592314e-01\n",
            "  -2.35229403e-01 -6.25613034e-02  8.86633992e-02 -4.51662298e-03\n",
            "  -4.21014205e-02 -8.13472271e-03  1.59185022e-01  4.59275007e-01\n",
            "   6.70670569e-02  5.26530035e-02  7.76595026e-02 -1.77567720e-01\n",
            "   5.43476222e-03  1.89627528e-01  6.99970424e-02 -6.88575357e-02\n",
            "  -1.72123685e-01 -1.29313529e-01  3.23585659e-01  8.50974545e-02\n",
            "   3.79963182e-02  3.79794165e-02 -1.88536718e-01  1.45800918e-01\n",
            "  -1.70516878e-01  1.00212954e-01  1.31324410e-01 -2.43455946e-01\n",
            "   3.84788215e-01 -1.82031497e-01 -4.88060825e-02 -5.21889329e-01\n",
            "   9.93553624e-02  4.97346669e-02 -7.47848526e-02 -2.32665762e-01\n",
            "  -1.34962931e-01  3.60760055e-02 -5.05838096e-02  7.98055008e-02\n",
            "   4.09688093e-02  1.33346841e-01 -2.33546823e-01  2.94856764e-02\n",
            "   3.35760206e-01  9.33396369e-02]\n",
            " [ 1.96461439e-01 -2.62378126e-01 -7.20667064e-01  1.50527656e-01\n",
            "  -6.55139610e-02  9.34022292e-03  3.21172655e-01  2.46951386e-01\n",
            "   2.05562681e-01 -6.36165440e-02  2.17487410e-01  1.17032848e-01\n",
            "   1.28058540e-02 -4.62754279e-01  1.36717394e-01 -1.00556657e-01\n",
            "   2.11811274e-01  8.96835268e-01  4.37063187e-01 -1.59007877e-01\n",
            "  -2.78895438e-01 -3.40468556e-01  3.26229036e-01  3.30693066e-01\n",
            "  -5.79262972e-01  9.20928828e-03 -6.97167337e-01 -3.29718292e-01\n",
            "  -1.07279718e-01  5.88811755e-01  2.32514873e-01  1.94949150e-01\n",
            "   2.29606956e-01 -4.79222059e-01 -1.47317082e-01 -1.57036185e-01\n",
            "   2.08796874e-01  2.37958312e-01 -2.10059267e-02 -8.99949223e-02\n",
            "  -4.41210955e-01  1.02201007e-01  2.37828448e-01  3.76080781e-01\n",
            "  -4.56483066e-01 -3.68466258e-01 -8.91877532e-01 -6.26737699e-02\n",
            "   6.15048110e-01  6.81560218e-01]]\n"
          ],
          "name": "stdout"
        }
      ]
    },
    {
      "cell_type": "code",
      "metadata": {
        "id": "YUy99xaDehHL"
      },
      "source": [
        "y_pred = classifier.predict(test_val)"
      ],
      "execution_count": 16,
      "outputs": []
    },
    {
      "cell_type": "code",
      "metadata": {
        "colab": {
          "base_uri": "https://localhost:8080/"
        },
        "id": "2gzSCOEhUX0N",
        "outputId": "11d9982d-01f1-4be3-bc83-b0372e058ccc"
      },
      "source": [
        "from sklearn.metrics import accuracy_score, confusion_matrix, f1_score, precision_score, recall_score\n",
        "print(accuracy_score(y_test, y_pred)*100,\"%\")\n",
        "print(confusion_matrix(y_test, y_pred))\n",
        "print(f1_score(y_test, y_pred))\n",
        "print(precision_score(y_test, y_pred))\n",
        "print(recall_score(y_test, y_pred))"
      ],
      "execution_count": 17,
      "outputs": [
        {
          "output_type": "stream",
          "text": [
            "53.100238963652366 %\n",
            "[[2247 1812]\n",
            " [1917 1975]]\n",
            "0.5143898945175152\n",
            "0.5215209928703459\n",
            "0.5074511819116135\n"
          ],
          "name": "stdout"
        }
      ]
    },
    {
      "cell_type": "code",
      "metadata": {
        "colab": {
          "base_uri": "https://localhost:8080/"
        },
        "id": "2LsqhWOKUZl6",
        "outputId": "218225a5-c1fe-4fb2-d547-f3b1caa833e3"
      },
      "source": [
        "df_test = pd.read_csv('Apple60_Major.csv', skiprows=0)\n",
        "#print(df_test.iloc[:, -1].values)\n",
        "df_test[\"Movement\"].replace({-1: 0}, inplace=True)\n",
        "test_data = np.array(hub_layer(df_test[\"News\"]))\n",
        "\n",
        "print(test_data[:10])"
      ],
      "execution_count": 18,
      "outputs": [
        {
          "output_type": "stream",
          "text": [
            "[[ 3.13545793e-01 -1.23975776e-01 -1.70429930e-01 -3.49904187e-02\n",
            "  -3.58242057e-02 -1.88798577e-01  4.39916462e-01 -1.29881210e-03\n",
            "   6.71013445e-02  1.16763636e-02 -3.14179473e-02  1.77670971e-01\n",
            "   1.02066256e-01  4.23686802e-02  1.51786089e-01 -1.92925498e-01\n",
            "  -4.15387869e-01  1.72586322e-01  2.56283581e-01 -3.39321703e-01\n",
            "   4.59879497e-03 -2.07928702e-01  1.31040663e-01  8.24995786e-02\n",
            "  -1.46420583e-01  9.68253911e-02 -1.95102215e-01  2.11510524e-01\n",
            "   1.45782251e-02 -9.08587575e-02  1.23649403e-01 -3.54639590e-02\n",
            "   4.34994429e-01 -2.83502400e-01 -4.69967425e-02  1.43503875e-01\n",
            "   1.37878478e-01 -1.77231729e-01  7.52000213e-02 -6.56884611e-02\n",
            "  -2.13369891e-01  4.16275896e-02  2.60824144e-01  2.92564899e-01\n",
            "  -1.34889305e-01 -3.78095359e-01 -6.74926639e-02 -6.89061009e-04\n",
            "  -2.41003126e-01 -8.17034766e-02]\n",
            " [ 1.58091709e-01  8.09366778e-02 -1.00125924e-01  3.08011591e-01\n",
            "  -1.21869713e-01 -2.66389757e-01  2.65746415e-01  1.15882643e-01\n",
            "   2.80758470e-01  8.64161253e-02 -1.09790474e-01  1.67578027e-01\n",
            "   4.41379249e-02 -1.59719825e-01  3.81023973e-01 -1.78408816e-01\n",
            "  -4.55755204e-01  3.15351635e-01  1.48912176e-01  3.66490451e-03\n",
            "  -5.28527535e-02 -2.64182627e-01  2.75368243e-01  2.71122009e-01\n",
            "   2.25590765e-01  3.11858440e-03 -6.68402165e-02 -6.02974929e-02\n",
            "   1.71309039e-01  8.45378637e-02  8.19144249e-02  1.17364340e-01\n",
            "  -3.99249345e-02 -1.82801127e-01 -2.03154519e-01  8.29839259e-02\n",
            "   1.00861773e-01 -3.44959140e-01  4.94585074e-02 -1.54500052e-01\n",
            "  -3.64536196e-01 -2.36281633e-01  4.27686900e-01  2.92648464e-01\n",
            "  -1.89487785e-01 -5.43865263e-01 -2.93446124e-01 -1.63296580e-01\n",
            "   2.21767016e-02 -1.17226295e-01]\n",
            " [ 4.25559789e-01 -1.38067275e-01 -4.89431713e-03  3.30491871e-01\n",
            "  -1.95005789e-01 -2.25165099e-01  3.53252254e-02  1.29783109e-01\n",
            "   1.97027370e-01 -1.26667038e-01 -2.88113892e-01 -5.27825840e-02\n",
            "   2.32446030e-01 -4.00866568e-01  3.10899407e-01 -1.19962335e-01\n",
            "  -2.43278876e-01  4.98410612e-01 -5.99215999e-02  4.27964665e-02\n",
            "  -3.37399431e-02 -2.54182726e-01  2.75461167e-01  7.41459504e-02\n",
            "  -2.00616717e-02 -1.53618753e-02 -6.43298402e-02  2.51193076e-01\n",
            "   2.53535006e-02  1.52837122e-02  1.18932538e-01  5.74596263e-02\n",
            "   3.94484214e-02  8.65563564e-03  1.61354214e-01 -1.96271971e-01\n",
            "   2.27356672e-01 -3.83079708e-01 -2.84877360e-01  2.05619596e-02\n",
            "  -3.19836944e-01 -1.93277374e-01  8.54456276e-02  5.34518600e-01\n",
            "  -3.48985717e-02 -4.19646472e-01 -1.23942560e-02  1.10657498e-01\n",
            "   7.34369680e-02  7.84413964e-02]\n",
            " [ 6.91366971e-01 -4.82279092e-01 -1.56589419e-01  5.31227112e-01\n",
            "  -1.51887283e-01 -2.34780088e-01  4.71870333e-01  3.40684026e-01\n",
            "   2.52199113e-01 -1.74815029e-01 -6.04052581e-02  1.63490653e-01\n",
            "   3.22990000e-01 -5.18849432e-01  5.47371149e-01 -3.20322990e-01\n",
            "  -2.53225267e-01  2.51969129e-01  1.76932231e-01  4.97312188e-01\n",
            "  -2.82515168e-01 -3.76509279e-01  2.85603881e-01  9.12654102e-02\n",
            "   3.27262282e-01  2.04544105e-02 -1.59612954e-01  2.95405030e-01\n",
            "  -2.54005075e-01  3.44232768e-02 -1.02285706e-01  1.49944443e-02\n",
            "   2.19925433e-01 -1.53553873e-01  1.66217402e-01  8.71914774e-02\n",
            "   4.80014712e-01 -4.71809685e-01 -3.72358561e-01 -2.74594706e-02\n",
            "  -4.09898758e-01 -3.37522894e-01  1.20316029e-01  4.61614728e-01\n",
            "  -4.43301022e-01 -9.71776545e-01  3.32941823e-02  1.35630161e-01\n",
            "   1.45986453e-01  8.87444243e-02]\n",
            " [ 1.02082849e+00 -2.62074172e-01  6.30265772e-02  8.36287796e-01\n",
            "  -3.65227163e-01 -5.07204354e-01  7.67906457e-02  3.92825514e-01\n",
            "   7.03233004e-01 -2.92709060e-02 -7.27402627e-01  5.08453369e-01\n",
            "   9.65335742e-02 -4.50070441e-01  5.20994365e-01 -1.02285576e+00\n",
            "  -2.64075011e-01  9.02357042e-01 -1.36429235e-01  2.52876908e-01\n",
            "  -4.25080806e-01 -5.33841133e-01  5.72763026e-01  7.44772613e-01\n",
            "  -8.67767856e-02  2.34581530e-02 -7.71739364e-01  3.44214171e-01\n",
            "  -2.47982547e-01  2.42466822e-01  4.68481332e-01  1.83715448e-01\n",
            "   2.92902738e-01 -1.09060362e-01  3.24282080e-01 -1.96201764e-02\n",
            "   6.32014811e-01 -7.16445804e-01 -2.03698985e-02 -3.31629813e-01\n",
            "  -7.77744174e-01 -3.27561229e-01  3.81544232e-01  1.27611721e+00\n",
            "  -6.45719945e-01 -1.32156610e+00  3.34555320e-02  3.17646712e-01\n",
            "  -2.42407635e-01 -2.33388051e-01]\n",
            " [ 2.20655531e-01 -1.24543592e-01 -2.42365539e-01  2.01061547e-01\n",
            "   2.61513870e-02 -2.32323572e-01  3.15058947e-01  3.55816036e-01\n",
            "   3.34326386e-01 -2.64454409e-02  8.47767889e-02 -5.25233038e-02\n",
            "   3.45743239e-01 -3.39026958e-01  4.01577741e-01 -3.81313090e-04\n",
            "  -2.50057250e-01  5.44305705e-02  3.88964385e-01  3.50378275e-01\n",
            "  -2.43521124e-01 -1.43994942e-01  1.33400843e-01  3.25269885e-02\n",
            "   1.16534807e-01  1.03208691e-01 -1.03475992e-02  1.06063008e-01\n",
            "  -7.34823868e-02  4.77522910e-02  1.67542517e-01  8.81298503e-04\n",
            "   3.17998439e-01 -2.94103712e-01  2.70145655e-01 -1.38049603e-01\n",
            "   1.42205283e-01  4.57808040e-02  1.25785887e-01  9.80716720e-02\n",
            "  -2.70486087e-01 -1.46104367e-02  3.06598783e-01  2.07330853e-01\n",
            "   7.09913075e-02 -5.17082095e-01  1.35197774e-01 -5.40579297e-02\n",
            "  -4.23836187e-02 -3.49127293e-01]\n",
            " [ 2.07843930e-01 -2.75338650e-01 -3.76288086e-01  2.08832055e-01\n",
            "   1.83172047e-01 -4.78953153e-01  3.64302039e-01  4.29784596e-01\n",
            "   6.37107491e-01  4.11495380e-02  5.77112287e-02  1.23476513e-01\n",
            "   2.61880338e-01 -9.61153358e-02  3.07223827e-01  6.95248023e-02\n",
            "  -2.04295501e-01  2.63583958e-01  2.24587679e-01 -1.96213238e-02\n",
            "   1.75259292e-01 -2.86077291e-01  3.22621644e-01  2.38715321e-01\n",
            "  -2.73048729e-01  2.10238516e-01  1.34514242e-01  1.21594034e-01\n",
            "   6.41600788e-02  2.81224608e-01  3.39447647e-01 -2.16662094e-01\n",
            "  -3.20850201e-02 -6.13388680e-02  2.93802023e-01 -9.44578871e-02\n",
            "   6.24413863e-02 -1.41377072e-03 -8.20925236e-02 -9.57217664e-02\n",
            "  -2.39737839e-01 -1.97557569e-01  5.00092685e-01  1.01727352e-01\n",
            "  -1.82062328e-01 -7.52184868e-01  1.84631944e-01  2.05125779e-01\n",
            "  -1.25410706e-01 -1.23080380e-01]\n",
            " [ 2.04840172e-02 -1.03799626e-01 -3.73689502e-01  2.68795401e-01\n",
            "   1.39716398e-02 -4.19452310e-01  3.82008553e-01  1.24017969e-01\n",
            "   6.51651680e-01 -1.95080981e-01  2.08007127e-01  2.66845584e-01\n",
            "  -4.86812787e-03 -1.52579963e-01  2.10859045e-01  3.90612692e-01\n",
            "   2.07966879e-01  1.29475102e-01  3.61297846e-01  2.58681893e-01\n",
            "  -2.27250364e-02 -3.21298212e-01  1.61489934e-01  1.85226709e-01\n",
            "  -1.05639070e-01  5.22746556e-02 -1.53233916e-01  4.43550825e-01\n",
            "  -2.93457925e-01  3.27161372e-01  3.07347536e-01 -7.20098168e-02\n",
            "  -8.80334675e-02 -4.24012716e-04  3.93641829e-01 -1.65032387e-01\n",
            "   2.00176612e-01  1.26690567e-01 -1.03447147e-01  1.72948971e-01\n",
            "  -2.03849241e-01 -2.69412309e-01  2.60754675e-01 -2.26928666e-02\n",
            "  -1.80082843e-01 -2.37096697e-01 -1.69700488e-01 -7.35579282e-02\n",
            "  -5.88873997e-02 -1.56337861e-02]\n",
            " [ 2.04840172e-02 -1.03799626e-01 -3.73689502e-01  2.68795401e-01\n",
            "   1.39716398e-02 -4.19452310e-01  3.82008553e-01  1.24017969e-01\n",
            "   6.51651680e-01 -1.95080981e-01  2.08007127e-01  2.66845584e-01\n",
            "  -4.86812787e-03 -1.52579963e-01  2.10859045e-01  3.90612692e-01\n",
            "   2.07966879e-01  1.29475102e-01  3.61297846e-01  2.58681893e-01\n",
            "  -2.27250364e-02 -3.21298212e-01  1.61489934e-01  1.85226709e-01\n",
            "  -1.05639070e-01  5.22746556e-02 -1.53233916e-01  4.43550825e-01\n",
            "  -2.93457925e-01  3.27161372e-01  3.07347536e-01 -7.20098168e-02\n",
            "  -8.80334675e-02 -4.24012716e-04  3.93641829e-01 -1.65032387e-01\n",
            "   2.00176612e-01  1.26690567e-01 -1.03447147e-01  1.72948971e-01\n",
            "  -2.03849241e-01 -2.69412309e-01  2.60754675e-01 -2.26928666e-02\n",
            "  -1.80082843e-01 -2.37096697e-01 -1.69700488e-01 -7.35579282e-02\n",
            "  -5.88873997e-02 -1.56337861e-02]\n",
            " [ 2.07843930e-01 -2.75338650e-01 -3.76288086e-01  2.08832055e-01\n",
            "   1.83172047e-01 -4.78953153e-01  3.64302039e-01  4.29784596e-01\n",
            "   6.37107491e-01  4.11495380e-02  5.77112287e-02  1.23476513e-01\n",
            "   2.61880338e-01 -9.61153358e-02  3.07223827e-01  6.95248023e-02\n",
            "  -2.04295501e-01  2.63583958e-01  2.24587679e-01 -1.96213238e-02\n",
            "   1.75259292e-01 -2.86077291e-01  3.22621644e-01  2.38715321e-01\n",
            "  -2.73048729e-01  2.10238516e-01  1.34514242e-01  1.21594034e-01\n",
            "   6.41600788e-02  2.81224608e-01  3.39447647e-01 -2.16662094e-01\n",
            "  -3.20850201e-02 -6.13388680e-02  2.93802023e-01 -9.44578871e-02\n",
            "   6.24413863e-02 -1.41377072e-03 -8.20925236e-02 -9.57217664e-02\n",
            "  -2.39737839e-01 -1.97557569e-01  5.00092685e-01  1.01727352e-01\n",
            "  -1.82062328e-01 -7.52184868e-01  1.84631944e-01  2.05125779e-01\n",
            "  -1.25410706e-01 -1.23080380e-01]]\n"
          ],
          "name": "stdout"
        }
      ]
    },
    {
      "cell_type": "code",
      "metadata": {
        "colab": {
          "base_uri": "https://localhost:8080/"
        },
        "id": "1DwfzLy4AiU1",
        "outputId": "10971de6-7ba2-4748-bdc6-ca960cf1cf3f"
      },
      "source": [
        "y_testSample = df_test.iloc[:, -1].values\n",
        "\n",
        "print(y_testSample[:10])"
      ],
      "execution_count": 19,
      "outputs": [
        {
          "output_type": "stream",
          "text": [
            "[0 0 0 0 0 0 0 0 0 0]\n"
          ],
          "name": "stdout"
        }
      ]
    },
    {
      "cell_type": "code",
      "metadata": {
        "id": "PoxUXyLZAJFA"
      },
      "source": [
        "y_predTest = classifier.predict(test_data)"
      ],
      "execution_count": 20,
      "outputs": []
    },
    {
      "cell_type": "code",
      "metadata": {
        "colab": {
          "base_uri": "https://localhost:8080/"
        },
        "id": "dv84BA_WAK_I",
        "outputId": "3c8c8e08-8a0c-4be3-e8ad-9388fd8288f6"
      },
      "source": [
        "print(accuracy_score(y_testSample, y_predTest)*100,\"%\")\n",
        "print(confusion_matrix(y_testSample, y_predTest))\n",
        "print(f1_score(y_testSample, y_predTest))\n",
        "print(precision_score(y_testSample, y_predTest))\n",
        "print(recall_score(y_testSample, y_predTest))"
      ],
      "execution_count": 21,
      "outputs": [
        {
          "output_type": "stream",
          "text": [
            "50.91420534458509 %\n",
            "[[178 162]\n",
            " [187 184]]\n",
            "0.5132496513249651\n",
            "0.5317919075144508\n",
            "0.49595687331536387\n"
          ],
          "name": "stdout"
        }
      ]
    }
  ]
}