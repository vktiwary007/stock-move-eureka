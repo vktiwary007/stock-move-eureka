{
  "nbformat": 4,
  "nbformat_minor": 0,
  "metadata": {
    "colab": {
      "name": "stockMovement3.ipynb",
      "provenance": [],
      "authorship_tag": "ABX9TyOpY+WZszwtzU4m8cs2+Xbf",
      "include_colab_link": true
    },
    "kernelspec": {
      "name": "python3",
      "display_name": "Python 3"
    },
    "language_info": {
      "name": "python"
    }
  },
  "cells": [
    {
      "cell_type": "markdown",
      "metadata": {
        "id": "view-in-github",
        "colab_type": "text"
      },
      "source": [
        "<a href=\"https://colab.research.google.com/github/vktiwary007/stock-move-eureka/blob/main/stockMovement3.ipynb\" target=\"_parent\"><img src=\"https://colab.research.google.com/assets/colab-badge.svg\" alt=\"Open In Colab\"/></a>"
      ]
    },
    {
      "cell_type": "code",
      "metadata": {
        "id": "yt_cE5Bm2HTx",
        "colab": {
          "base_uri": "https://localhost:8080/"
        },
        "outputId": "919450c0-fef1-4402-ad2a-ba884ccf5c65"
      },
      "source": [
        "import numpy as np\n",
        "import pandas as pd\n",
        "\n",
        "import tensorflow as tf\n",
        "import tensorflow_hub as hub\n",
        "import tensorflow_datasets as tfds\n",
        "\n",
        "import matplotlib.pyplot as plt\n",
        "\n",
        "print(\"Version: \", tf.__version__)\n",
        "print(\"Eager mode: \", tf.executing_eagerly())\n",
        "print(\"Hub version: \", hub.__version__)\n",
        "print(\"GPU is\", \"available\" if tf.config.list_physical_devices('GPU') else \"NOT AVAILABLE\")"
      ],
      "execution_count": null,
      "outputs": [
        {
          "output_type": "stream",
          "text": [
            "Version:  2.4.1\n",
            "Eager mode:  True\n",
            "Hub version:  0.11.0\n",
            "GPU is NOT AVAILABLE\n"
          ],
          "name": "stdout"
        }
      ]
    },
    {
      "cell_type": "code",
      "metadata": {
        "id": "mhtkn5qPHLTA"
      },
      "source": [
        "import io\n",
        "#df = pd.read_csv('Apple60.csv', skiprows=0)\n",
        "\n",
        "from sklearn.model_selection import train_test_split\n",
        "data = pd.read_csv('Apple60.csv', sep=',', header=0)\n",
        "test_data = pd.read_csv('Apple60_Major.csv', sep=',', header=0)\n",
        "train_df, test_df = train_test_split(data, test_size=0.2, random_state=42, shuffle=True)"
      ],
      "execution_count": null,
      "outputs": []
    },
    {
      "cell_type": "code",
      "metadata": {
        "colab": {
          "base_uri": "https://localhost:8080/",
          "height": 359
        },
        "id": "4Qhd_OSJH9TD",
        "outputId": "5dd62984-8444-48d3-e76f-d1dd346d45ff"
      },
      "source": [
        "data[:10]"
      ],
      "execution_count": null,
      "outputs": [
        {
          "output_type": "execute_result",
          "data": {
            "text/html": [
              "<div>\n",
              "<style scoped>\n",
              "    .dataframe tbody tr th:only-of-type {\n",
              "        vertical-align: middle;\n",
              "    }\n",
              "\n",
              "    .dataframe tbody tr th {\n",
              "        vertical-align: top;\n",
              "    }\n",
              "\n",
              "    .dataframe thead th {\n",
              "        text-align: right;\n",
              "    }\n",
              "</style>\n",
              "<table border=\"1\" class=\"dataframe\">\n",
              "  <thead>\n",
              "    <tr style=\"text-align: right;\">\n",
              "      <th></th>\n",
              "      <th>Source</th>\n",
              "      <th>News</th>\n",
              "      <th>Movement</th>\n",
              "    </tr>\n",
              "  </thead>\n",
              "  <tbody>\n",
              "    <tr>\n",
              "      <th>0</th>\n",
              "      <td>www.businesswire.com</td>\n",
              "      <td>NAPE Summit Week will also feature the annual ...</td>\n",
              "      <td>1</td>\n",
              "    </tr>\n",
              "    <tr>\n",
              "      <th>1</th>\n",
              "      <td>seekingalpha.com</td>\n",
              "      <td>Bearish Calls Lumentum (NASDAQ: LITE ): It's a...</td>\n",
              "      <td>0</td>\n",
              "    </tr>\n",
              "    <tr>\n",
              "      <th>2</th>\n",
              "      <td>seekingalpha.com</td>\n",
              "      <td>The areas to be concerned are that there are f...</td>\n",
              "      <td>1</td>\n",
              "    </tr>\n",
              "    <tr>\n",
              "      <th>3</th>\n",
              "      <td>seekingalpha.com</td>\n",
              "      <td>Amazon will soon resume selling the Apple TV (...</td>\n",
              "      <td>1</td>\n",
              "    </tr>\n",
              "    <tr>\n",
              "      <th>4</th>\n",
              "      <td>seekingalpha.com</td>\n",
              "      <td>With such a large revenue pie, naturally we be...</td>\n",
              "      <td>0</td>\n",
              "    </tr>\n",
              "    <tr>\n",
              "      <th>5</th>\n",
              "      <td>seekingalpha.com</td>\n",
              "      <td>Facing questions from tech analysts, Apple (NA...</td>\n",
              "      <td>0</td>\n",
              "    </tr>\n",
              "    <tr>\n",
              "      <th>6</th>\n",
              "      <td>www.thestreet.com</td>\n",
              "      <td>Cramer and the AAP team say investors need to ...</td>\n",
              "      <td>0</td>\n",
              "    </tr>\n",
              "    <tr>\n",
              "      <th>7</th>\n",
              "      <td>seekingalpha.com</td>\n",
              "      <td>One day after Apple acknowledged that it has b...</td>\n",
              "      <td>0</td>\n",
              "    </tr>\n",
              "    <tr>\n",
              "      <th>8</th>\n",
              "      <td>www.thestreet.com</td>\n",
              "      <td>1 . -- U.S. stock futures turned lower on Tues...</td>\n",
              "      <td>0</td>\n",
              "    </tr>\n",
              "    <tr>\n",
              "      <th>9</th>\n",
              "      <td>seekingalpha.com</td>\n",
              "      <td>Meanwhile, eight more lawsuits have been filed...</td>\n",
              "      <td>0</td>\n",
              "    </tr>\n",
              "  </tbody>\n",
              "</table>\n",
              "</div>"
            ],
            "text/plain": [
              "                 Source  ... Movement\n",
              "0  www.businesswire.com  ...        1\n",
              "1      seekingalpha.com  ...        0\n",
              "2      seekingalpha.com  ...        1\n",
              "3      seekingalpha.com  ...        1\n",
              "4      seekingalpha.com  ...        0\n",
              "5      seekingalpha.com  ...        0\n",
              "6     www.thestreet.com  ...        0\n",
              "7      seekingalpha.com  ...        0\n",
              "8     www.thestreet.com  ...        0\n",
              "9      seekingalpha.com  ...        0\n",
              "\n",
              "[10 rows x 3 columns]"
            ]
          },
          "metadata": {
            "tags": []
          },
          "execution_count": 23
        }
      ]
    },
    {
      "cell_type": "code",
      "metadata": {
        "colab": {
          "base_uri": "https://localhost:8080/"
        },
        "id": "4_zH1sgphjJ7",
        "outputId": "bf064083-06ab-44ee-9745-29df83fa798c"
      },
      "source": [
        "from sklearn.utils import shuffle\n",
        "from keras.preprocessing.text import Tokenizer\n",
        "from keras.preprocessing.sequence import pad_sequences\n",
        "\n",
        "from tqdm import tqdm\n",
        "\n",
        "from nltk.corpus import stopwords\n",
        "from nltk.stem.porter import PorterStemmer\n",
        "from nltk.tokenize import word_tokenize\n",
        "\n",
        "MAX_NB_WORDS = 40000\n",
        "max_seq_len = 1000\n",
        "\n",
        "raw_docs_train = train_df['News'].tolist()\n",
        "raw_docs_test = test_df['News'].tolist()\n",
        "test_corpus = test_data['News'].tolist()\n",
        "\n",
        "print(raw_docs_train[:10])\n",
        "\n",
        "num_classes = 2\n",
        "processed_docs_train = []\n",
        "\n",
        "stop_words = set(stopwords.words('english'))\n",
        "\n",
        "for doc in tqdm(raw_docs_train):\n",
        "  tokens = word_tokenize(doc)\n",
        "  filtered = [word for word in tokens if word not in stop_words]\n",
        "  processed_docs_train.append(\" \".join(filtered))\n",
        "processed_docs_test = []\n",
        "\n",
        "for doc in tqdm(raw_docs_test):\n",
        "  tokens = word_tokenize(doc)\n",
        "  filtered = [word for word in tokens if word not in stop_words]\n",
        "  processed_docs_test.append(\" \".join(filtered))\n",
        "\n",
        "processed_test_sample = []\n",
        "for doc in tqdm(test_corpus):\n",
        "  tokens = word_tokenize(doc)\n",
        "  filtered = [word for word in tokens if word not in stop_words]\n",
        "  processed_test_sample.append(\" \".join(filtered))\n",
        "\n"
      ],
      "execution_count": null,
      "outputs": [
        {
          "output_type": "stream",
          "text": [
            "  0%|          | 83/31801 [00:00<00:38, 826.95it/s]"
          ],
          "name": "stderr"
        },
        {
          "output_type": "stream",
          "text": [
            "['Among 53 analysts covering Apple Inc. ( NASDAQ:AAPL ), 34 have Buy rating, 1 Sell and 18 Hold. Therefore 64% are positive. Apple Inc. had 381 analyst reports since July 21, 2015   BMO Capital Markets maintained Apple Inc. (NASDAQ:AAPL) on Monday, July 24 with “Buy” rating. The stock has “Hold” rating by Rosenblatt on Tuesday, August 22. The stock of Apple Inc. (NASDAQ:AAPL) has “Hold” rating given on Wednesday, October 28 by Mizuho. On Tuesday, February 13 the stock rating was upgraded by Bank of America to “Buy”. The firm earned “Market Perform” rating on Friday, February 16 by Raymond James. The stock of Apple Inc. (NASDAQ:AAPL) has “Hold” rating given on Tuesday, August 1 by Wells Fargo. The company was maintained on Wednesday, October 26 by Drexel Hamilton. The firm earned “Hold” rating on Monday, September 18 by Mizuho. The stock of Apple Inc. (NASDAQ:AAPL) has “Buy” rating given on Friday, July 7 by Cowen & Co. Jefferies maintained it with “Hold” rating and $130 target in Tuesday, August 11 report. ', \"Teresa Kersten, an employee of LinkedIn, a Microsoft subsidiary, is a member of The Motley Fool's board of directors. Ashraf Eassa has no position in any of the stocks mentioned. The Motley Fool owns shares of and recommends AAPL. The Motley Fool owns shares of Microsoft and has the following options: long January 2020 $150 calls on AAPL and short January 2020 $155 calls on AAPL. The Motley Fool has a disclosure policy .\", 'Although Netflix’s premium expanding content can justify a higher-priced plan, the company will surely lose some competitive edge to Amazon’s AMZN Prime, Hulu, and upcoming services from Apple AAPL and Disney DIS . This is particularly true for cost sensitive markets like India. Notably, per Bloomberg, “Netflix’s average monthly price in India of 500 to 800 rupees ($7 to $12) is twice as much as the average pay-TV offering.”', 'The moves came after Apple Inc. AAPL, -8.94% said it would report much lower sales than previously expected, due largely to slowing iPhone sales and weakness in China .', 'RBC Dominion Securities analyst Amit Daryanani expects Apple Inc. ( AAPL-Q ) to release three new iPhones to launch in September.', \"Is the Apple of Jim Cramer's Eye AAPL? He said that the marines (or, in this case--the rest of FANG) storm the beaches first in order to clear them for the following soldiers.\", 'Investors sentiment increased to 0.73 in Q4 2017. Its up 0.03, from 0.7 in 2017Q3. It is positive, as 50 investors sold AAPL shares while 1023 reduced holdings. 151 funds opened positions while 637 raised stakes. 2.98 billion shares or 0.18% more from 2.97 billion shares in 2017Q3 were reported. Df Dent holds 14,336 shares. Tanaka Cap Management reported 8.83% of its portfolio in Apple Inc. (NASDAQ:AAPL). First Financial In reported 13,004 shares. Crestwood Advsrs Gru holds 245,561 shares. Quantitative Inv Mngmt Limited Co reported 1.6% in Apple Inc. (NASDAQ:AAPL). 12Th Street Asset Mgmt Co Ltd Liability Company holds 6.2% of its portfolio in Apple Inc. (NASDAQ:AAPL) for 146,096 shares. Gould Asset Mgmt Limited Liability Ca invested 0.41% of its portfolio in Apple Inc. (NASDAQ:AAPL). Hawkins LP invested in 14,911 shares or 4.56% of the stock. Lafleur & Godfrey Limited Liability Co invested in 7.13% or 171,641 shares. Intersect Ltd Liability Com reported 42,319 shares stake. Kentucky Retirement holds 3.82% or 316,618 shares. Eagle Ltd Liability Com reported 24,726 shares or 2.25% of all its holdings. Atalanta Sosnoff Capital Ltd Llc has invested 5.01% in Apple Inc. (NASDAQ:AAPL). Mraz Amerine Assocs Inc accumulated 0.48% or 9,228 shares. 6,542 were accumulated by Foundry Ptnrs Ltd. ', \"Apple Inc.'s stock AAPL, +3.61% jumped 3.9% in afternoon trade Friday, after tumbling 10% in the previous session, enough to take the technology giant's market capitalization back above the $700 billion mark. Apple still sets in fourth place on the list of most valuable U.S. companies with a market cap of $700.9 billion, well behind third-place Alphabet Inc. GOOGL, +4.81% which rose 4.9% to $748.0 billion. Meanwhile, Microsoft Corp.'s stock MSFT, +4.37% hiked up 4.6% to stay in first place with a market cap of $782.4 billion, ahead of second place Amazon.com Inc. AMZN, +4.87% which climbed 5.1% to $770.6 billion. The rally in the biggest tech names compared with a 4.2% rise in the Nasdaq Composite COMP, +4.02% and the Dow Jones Industrial Average's DJIA, +3.08% 751-point, or 3.3% gain.\", 'Notice that the S&P 500 has very similar risk/return attributes to the S&P 500 momentum index over this timeframe. As we have gone through an extended market period where Growth has outperformed Value, (Largely on the backs of companies like AAPL, AMZN, FB, NFLX, GOOG and MSFT) it stands to reason that a Cap Weighted Index would display attributes of Momentum and not be currently suited to accessing Value. The systematic profit taking of Reverse Cap, through selling companies as they grow larger and allocating to those with a higher likelihood of being undervalued, drives “Buy Low, Sell High” behavior, resulting in a definitional over-weighting of under-valued companies – manifesting in a high Value factor load.', 'Apple Inc. (NASDAQ:AAPL) News Launches 2018 Midterm Elections Section']\n"
          ],
          "name": "stdout"
        },
        {
          "output_type": "stream",
          "text": [
            "100%|██████████| 31801/31801 [00:36<00:00, 872.03it/s]\n",
            "100%|██████████| 7951/7951 [00:09<00:00, 863.03it/s]\n",
            "100%|██████████| 711/711 [00:00<00:00, 937.25it/s]\n"
          ],
          "name": "stderr"
        }
      ]
    },
    {
      "cell_type": "code",
      "metadata": {
        "colab": {
          "base_uri": "https://localhost:8080/"
        },
        "id": "htG1PhCgAhzs",
        "outputId": "86ada4d3-a61c-45ed-a257-69c2a36410ea"
      },
      "source": [
        "word_tokenizer = Tokenizer()\n",
        "word_tokenizer.fit_on_texts(raw_docs_train)"
      ],
      "execution_count": null,
      "outputs": [
        {
          "output_type": "stream",
          "text": [
            "86037\n"
          ],
          "name": "stdout"
        }
      ]
    },
    {
      "cell_type": "code",
      "metadata": {
        "colab": {
          "base_uri": "https://localhost:8080/"
        },
        "id": "rpUfiGO1AeB9",
        "outputId": "1c088c25-b911-46b3-cd03-3b5e326efc6c"
      },
      "source": [
        "tokenizer = Tokenizer()\n",
        "tokenizer.fit_on_texts(processed_docs_train + processed_docs_test)  \n",
        "\n",
        "vocab_length = len(tokenizer.word_index) + 1\n",
        "\n",
        "print(vocab_length)"
      ],
      "execution_count": null,
      "outputs": [
        {
          "output_type": "stream",
          "text": [
            "44596\n"
          ],
          "name": "stdout"
        }
      ]
    },
    {
      "cell_type": "code",
      "metadata": {
        "colab": {
          "base_uri": "https://localhost:8080/"
        },
        "id": "w6bTPyVFDPxh",
        "outputId": "12d5d881-065a-4d2a-aceb-7b32636046e3"
      },
      "source": [
        "MAX_NB_WORDS = vocab_length\n",
        "max_seq_len = 1000\n",
        "\n",
        "word_seq_train = tokenizer.texts_to_sequences(processed_docs_train)\n",
        "word_seq_test = tokenizer.texts_to_sequences(processed_docs_test)\n",
        "word_seq_testsample = tokenizer.texts_to_sequences(processed_test_sample)\n",
        "word_index = tokenizer.word_index\n",
        "\n",
        "word_seq_train = pad_sequences(word_seq_train, maxlen=max_seq_len)\n",
        "word_seq_test = pad_sequences(word_seq_test, maxlen=max_seq_len)\n",
        "word_seq_testsample = pad_sequences(word_seq_testsample, maxlen=max_seq_len)\n",
        "\n",
        "print(len(word_index))"
      ],
      "execution_count": null,
      "outputs": [
        {
          "output_type": "stream",
          "text": [
            "44595\n"
          ],
          "name": "stdout"
        }
      ]
    },
    {
      "cell_type": "code",
      "metadata": {
        "colab": {
          "base_uri": "https://localhost:8080/"
        },
        "id": "1qzxfGCAcZHT",
        "outputId": "fa1386df-a46d-41df-942c-3ae4a5d857af"
      },
      "source": [
        "import requests, zipfile, io\n",
        "zip_file_url = \"https://nlp.stanford.edu/data/glove.6B.zip\"\n",
        "r = requests.get(zip_file_url)\n",
        "z = zipfile.ZipFile(io.BytesIO(r.content))\n",
        "z.extractall()\n",
        "\n",
        "print(\"GloVE available locally\")"
      ],
      "execution_count": null,
      "outputs": [
        {
          "output_type": "stream",
          "text": [
            "GloVE available locally\n"
          ],
          "name": "stdout"
        }
      ]
    },
    {
      "cell_type": "code",
      "metadata": {
        "colab": {
          "base_uri": "https://localhost:8080/"
        },
        "id": "XBKql0OIg5eW",
        "outputId": "64c9fb7e-333e-47ac-ebd4-6fd97c8c6502"
      },
      "source": [
        "import codecs\n",
        "\n",
        "embeddings_index = {}\n",
        "#f = codecs.open(‘crawl-300d-2M.vec’, encoding=’utf-8')\n",
        "# for Glove\n",
        "f = codecs.open('glove.6B.50d.txt', encoding='utf-8')\n",
        "for line in tqdm(f):\n",
        "  values = line.rstrip().rsplit(' ')\n",
        "  word = values[0]\n",
        "  coefs = np.asarray(values[1:], dtype='float32')\n",
        "  embeddings_index[word] = coefs\n",
        "f.close()"
      ],
      "execution_count": null,
      "outputs": [
        {
          "output_type": "stream",
          "text": [
            "400000it [00:12, 31000.96it/s]\n"
          ],
          "name": "stderr"
        }
      ]
    },
    {
      "cell_type": "code",
      "metadata": {
        "id": "esSJoZRNOeNp",
        "colab": {
          "base_uri": "https://localhost:8080/"
        },
        "outputId": "5a55e67b-e983-4f38-98c9-8764bca02ca8"
      },
      "source": [
        "words_not_found = []\n",
        "embed_dim = 50\n",
        "nb_words = min(MAX_NB_WORDS, len(word_index)+1)\n",
        "embedding_matrix = np.zeros((nb_words, embed_dim))\n",
        "for word, i in word_index.items():\n",
        "  if i >= nb_words:\n",
        "     continue\n",
        "  embedding_vector = embeddings_index.get(word)\n",
        "  \n",
        "  if (embedding_vector is not None) and len(embedding_vector) > 0:\n",
        "     embedding_matrix[i] = embedding_vector\n",
        "  else:\n",
        "     words_not_found.append(word)\n",
        "print('number of null word embeddings: %d' % np.sum(np.sum(embedding_matrix, axis=1) == 0))"
      ],
      "execution_count": null,
      "outputs": [
        {
          "output_type": "stream",
          "text": [
            "number of null word embeddings: 11955\n"
          ],
          "name": "stdout"
        }
      ]
    },
    {
      "cell_type": "code",
      "metadata": {
        "id": "bIKBjnkIO1R9",
        "colab": {
          "base_uri": "https://localhost:8080/"
        },
        "outputId": "52e2607e-d889-4bbc-e39b-c1f40ebcdeb8"
      },
      "source": [
        "from keras.layers import BatchNormalization\n",
        "from keras.layers import Embedding, Bidirectional, Dense, Dropout, LSTM, Flatten, Conv1D, MaxPooling1D, Activation\n",
        "from keras.initializers import Constant\n",
        "\n",
        "model = tf.keras.Sequential()\n",
        "model.add(Embedding(nb_words, embed_dim, input_length=max_seq_len, weights=[embedding_matrix],trainable=False))\n",
        "model.add(Dropout(0.2))\n",
        "model.add(Conv1D(64, 5, activation='relu'))\n",
        "model.add(MaxPooling1D(pool_size=4))\n",
        "model.add(LSTM(100))\n",
        "model.add(Dense(1, activation='sigmoid'))\n",
        "#model.add(Flatten())\n",
        "#model.add(Dense(1, activation='sigmoid'))\n",
        "model.summary()"
      ],
      "execution_count": null,
      "outputs": [
        {
          "output_type": "stream",
          "text": [
            "Model: \"sequential_8\"\n",
            "_________________________________________________________________\n",
            "Layer (type)                 Output Shape              Param #   \n",
            "=================================================================\n",
            "embedding_8 (Embedding)      (None, 1000, 50)          2229800   \n",
            "_________________________________________________________________\n",
            "dropout_3 (Dropout)          (None, 1000, 50)          0         \n",
            "_________________________________________________________________\n",
            "conv1d_3 (Conv1D)            (None, 996, 64)           16064     \n",
            "_________________________________________________________________\n",
            "max_pooling1d_6 (MaxPooling1 (None, 249, 64)           0         \n",
            "_________________________________________________________________\n",
            "lstm_6 (LSTM)                (None, 100)               66000     \n",
            "_________________________________________________________________\n",
            "dense_8 (Dense)              (None, 1)                 101       \n",
            "=================================================================\n",
            "Total params: 2,311,965\n",
            "Trainable params: 82,165\n",
            "Non-trainable params: 2,229,800\n",
            "_________________________________________________________________\n"
          ],
          "name": "stdout"
        }
      ]
    },
    {
      "cell_type": "code",
      "metadata": {
        "id": "zBbc9vMcO5qm",
        "colab": {
          "base_uri": "https://localhost:8080/"
        },
        "outputId": "12cc2c54-1b9f-4eca-d76b-d600bf4d2fa4"
      },
      "source": [
        "from keras.optimizers import RMSprop\n",
        "from keras.callbacks import ModelCheckpoint\n",
        "from tensorflow.keras.callbacks import EarlyStopping\n",
        "from keras.utils import to_categorical\n",
        "\n",
        "labels = to_categorical(np.asarray(train_df['Movement']))\n",
        "y_train = np.array(train_df['Movement'])\n",
        "\n",
        "print(labels[:10])\n",
        "print(y_train[:10])\n"
      ],
      "execution_count": null,
      "outputs": [
        {
          "output_type": "stream",
          "text": [
            "[[1. 0.]\n",
            " [0. 1.]\n",
            " [1. 0.]\n",
            " [0. 1.]\n",
            " [1. 0.]\n",
            " [0. 1.]\n",
            " [1. 0.]\n",
            " [0. 1.]\n",
            " [1. 0.]\n",
            " [0. 1.]]\n",
            "[0 1 0 1 0 1 0 1 0 1]\n"
          ],
          "name": "stdout"
        }
      ]
    },
    {
      "cell_type": "code",
      "metadata": {
        "colab": {
          "base_uri": "https://localhost:8080/"
        },
        "id": "i3iLcVYWI3Ax",
        "outputId": "01395c23-d168-43a5-a3cf-b1c78fc06ebd"
      },
      "source": [
        "model.compile(loss='binary_crossentropy', optimizer='adam', metrics=['accuracy'])\n",
        "es_callback = EarlyStopping(monitor='val_loss', patience=3)\n",
        "history = model.fit(word_seq_train, y_train, epochs=10, validation_split=0.2)"
      ],
      "execution_count": null,
      "outputs": [
        {
          "output_type": "stream",
          "text": [
            "Epoch 1/10\n",
            "795/795 [==============================] - 226s 282ms/step - loss: 0.6992 - accuracy: 0.4962 - val_loss: 0.6923 - val_accuracy: 0.5149\n",
            "Epoch 2/10\n",
            "795/795 [==============================] - 223s 281ms/step - loss: 0.6930 - accuracy: 0.5158 - val_loss: 0.6923 - val_accuracy: 0.5169\n",
            "Epoch 3/10\n",
            "795/795 [==============================] - 225s 283ms/step - loss: 0.6902 - accuracy: 0.5297 - val_loss: 0.6928 - val_accuracy: 0.5155\n",
            "Epoch 4/10\n",
            "795/795 [==============================] - 226s 284ms/step - loss: 0.6865 - accuracy: 0.5462 - val_loss: 0.6961 - val_accuracy: 0.5180\n",
            "Epoch 5/10\n",
            "795/795 [==============================] - 225s 284ms/step - loss: 0.6806 - accuracy: 0.5665 - val_loss: 0.7013 - val_accuracy: 0.5210\n",
            "Epoch 6/10\n",
            "795/795 [==============================] - 225s 283ms/step - loss: 0.6736 - accuracy: 0.5727 - val_loss: 0.6999 - val_accuracy: 0.5219\n",
            "Epoch 7/10\n",
            "795/795 [==============================] - 225s 283ms/step - loss: 0.6634 - accuracy: 0.5921 - val_loss: 0.7021 - val_accuracy: 0.5108\n",
            "Epoch 8/10\n",
            "795/795 [==============================] - 225s 283ms/step - loss: 0.6534 - accuracy: 0.5972 - val_loss: 0.7080 - val_accuracy: 0.5216\n",
            "Epoch 9/10\n",
            "795/795 [==============================] - 224s 281ms/step - loss: 0.6432 - accuracy: 0.6168 - val_loss: 0.7067 - val_accuracy: 0.5114\n",
            "Epoch 10/10\n",
            "795/795 [==============================] - 225s 283ms/step - loss: 0.6387 - accuracy: 0.6204 - val_loss: 0.7124 - val_accuracy: 0.5149\n"
          ],
          "name": "stdout"
        }
      ]
    },
    {
      "cell_type": "code",
      "metadata": {
        "colab": {
          "base_uri": "https://localhost:8080/"
        },
        "id": "hrzOz3a9HEOE",
        "outputId": "6b1882b5-2279-45e3-9400-fddecef67e9b"
      },
      "source": [
        "y_test1 = np.array(test_df['Movement'])\n",
        "y_test2 = to_categorical(np.asarray(test_df['Movement']))\n",
        "loss, accuracy = model.evaluate(word_seq_test, y_test1, verbose=0)\n",
        "print('Accuracy: %f' % (accuracy*100))"
      ],
      "execution_count": null,
      "outputs": [
        {
          "output_type": "stream",
          "text": [
            "Accuracy: 51.980883\n"
          ],
          "name": "stdout"
        }
      ]
    },
    {
      "cell_type": "code",
      "metadata": {
        "colab": {
          "base_uri": "https://localhost:8080/"
        },
        "id": "zO_GbloIf2IH",
        "outputId": "36c13199-018c-4f2b-86d7-1d76a440ce82"
      },
      "source": [
        "test_data[\"Movement\"].replace({-1: 0}, inplace=True)\n",
        "y_testsample = np.array(test_data['Movement'])\n",
        "loss, accuracy = model.evaluate(word_seq_testsample, y_testsample, verbose=0)\n",
        "print('Accuracy: %f' % (accuracy*100))"
      ],
      "execution_count": 50,
      "outputs": [
        {
          "output_type": "stream",
          "text": [
            "Accuracy: 67.369902\n"
          ],
          "name": "stdout"
        }
      ]
    }
  ]
}