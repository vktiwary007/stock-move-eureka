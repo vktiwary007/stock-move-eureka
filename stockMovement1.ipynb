{
  "nbformat": 4,
  "nbformat_minor": 0,
  "metadata": {
    "colab": {
      "name": "stockMovement1.ipynb",
      "provenance": [],
      "authorship_tag": "ABX9TyO2UXQmwHBVAF5+m2X7RyQK",
      "include_colab_link": true
    },
    "kernelspec": {
      "name": "python3",
      "display_name": "Python 3"
    },
    "language_info": {
      "name": "python"
    }
  },
  "cells": [
    {
      "cell_type": "markdown",
      "metadata": {
        "id": "view-in-github",
        "colab_type": "text"
      },
      "source": [
        "<a href=\"https://colab.research.google.com/github/vktiwary007/stock-move-eureka/blob/main/stockMovement1.ipynb\" target=\"_parent\"><img src=\"https://colab.research.google.com/assets/colab-badge.svg\" alt=\"Open In Colab\"/></a>"
      ]
    },
    {
      "cell_type": "code",
      "metadata": {
        "id": "yt_cE5Bm2HTx",
        "colab": {
          "base_uri": "https://localhost:8080/"
        },
        "outputId": "6fa16206-ec05-4e7e-d4ac-0826d1506ff7"
      },
      "source": [
        "import numpy as np\n",
        "import pandas as pd\n",
        "\n",
        "import tensorflow as tf\n",
        "import tensorflow_hub as hub\n",
        "import tensorflow_datasets as tfds\n",
        "\n",
        "import matplotlib.pyplot as plt\n",
        "\n",
        "print(\"Version: \", tf.__version__)\n",
        "print(\"Eager mode: \", tf.executing_eagerly())\n",
        "print(\"Hub version: \", hub.__version__)\n",
        "print(\"GPU is\", \"available\" if tf.config.list_physical_devices('GPU') else \"NOT AVAILABLE\")"
      ],
      "execution_count": 20,
      "outputs": [
        {
          "output_type": "stream",
          "text": [
            "Version:  2.4.1\n",
            "Eager mode:  True\n",
            "Hub version:  0.11.0\n",
            "GPU is NOT AVAILABLE\n"
          ],
          "name": "stdout"
        }
      ]
    },
    {
      "cell_type": "code",
      "metadata": {
        "id": "mhtkn5qPHLTA"
      },
      "source": [
        "import io\n",
        "df = pd.read_csv('Apple240.csv', skiprows=0)"
      ],
      "execution_count": 21,
      "outputs": []
    },
    {
      "cell_type": "code",
      "metadata": {
        "colab": {
          "base_uri": "https://localhost:8080/",
          "height": 359
        },
        "id": "4Qhd_OSJH9TD",
        "outputId": "564a3ae5-bffc-4714-a112-cd52f17a02b0"
      },
      "source": [
        "df[:10]"
      ],
      "execution_count": 22,
      "outputs": [
        {
          "output_type": "execute_result",
          "data": {
            "text/html": [
              "<div>\n",
              "<style scoped>\n",
              "    .dataframe tbody tr th:only-of-type {\n",
              "        vertical-align: middle;\n",
              "    }\n",
              "\n",
              "    .dataframe tbody tr th {\n",
              "        vertical-align: top;\n",
              "    }\n",
              "\n",
              "    .dataframe thead th {\n",
              "        text-align: right;\n",
              "    }\n",
              "</style>\n",
              "<table border=\"1\" class=\"dataframe\">\n",
              "  <thead>\n",
              "    <tr style=\"text-align: right;\">\n",
              "      <th></th>\n",
              "      <th>Source</th>\n",
              "      <th>News</th>\n",
              "      <th>Movement</th>\n",
              "    </tr>\n",
              "  </thead>\n",
              "  <tbody>\n",
              "    <tr>\n",
              "      <th>0</th>\n",
              "      <td>seekingalpha.com</td>\n",
              "      <td>Bearish Calls Lumentum (NASDAQ: LITE ): It's a...</td>\n",
              "      <td>1</td>\n",
              "    </tr>\n",
              "    <tr>\n",
              "      <th>1</th>\n",
              "      <td>seekingalpha.com</td>\n",
              "      <td>The areas to be concerned are that there are f...</td>\n",
              "      <td>1</td>\n",
              "    </tr>\n",
              "    <tr>\n",
              "      <th>2</th>\n",
              "      <td>seekingalpha.com</td>\n",
              "      <td>Amazon will soon resume selling the Apple TV (...</td>\n",
              "      <td>1</td>\n",
              "    </tr>\n",
              "    <tr>\n",
              "      <th>3</th>\n",
              "      <td>seekingalpha.com</td>\n",
              "      <td>Facing questions from tech analysts, Apple (NA...</td>\n",
              "      <td>0</td>\n",
              "    </tr>\n",
              "    <tr>\n",
              "      <th>4</th>\n",
              "      <td>www.thestreet.com</td>\n",
              "      <td>Cramer and the AAP team say investors need to ...</td>\n",
              "      <td>0</td>\n",
              "    </tr>\n",
              "    <tr>\n",
              "      <th>5</th>\n",
              "      <td>seekingalpha.com</td>\n",
              "      <td>One day after Apple acknowledged that it has b...</td>\n",
              "      <td>1</td>\n",
              "    </tr>\n",
              "    <tr>\n",
              "      <th>6</th>\n",
              "      <td>www.thestreet.com</td>\n",
              "      <td>1 . -- U.S. stock futures turned lower on Tues...</td>\n",
              "      <td>1</td>\n",
              "    </tr>\n",
              "    <tr>\n",
              "      <th>7</th>\n",
              "      <td>seekingalpha.com</td>\n",
              "      <td>Meanwhile, eight more lawsuits have been filed...</td>\n",
              "      <td>1</td>\n",
              "    </tr>\n",
              "    <tr>\n",
              "      <th>8</th>\n",
              "      <td>seekingalpha.com</td>\n",
              "      <td>Shares in Apple and several of its suppliers f...</td>\n",
              "      <td>1</td>\n",
              "    </tr>\n",
              "    <tr>\n",
              "      <th>9</th>\n",
              "      <td>www.thestreet.com</td>\n",
              "      <td>1 . -- U.S. stock futures traded slightly high...</td>\n",
              "      <td>0</td>\n",
              "    </tr>\n",
              "  </tbody>\n",
              "</table>\n",
              "</div>"
            ],
            "text/plain": [
              "              Source  ... Movement\n",
              "0   seekingalpha.com  ...        1\n",
              "1   seekingalpha.com  ...        1\n",
              "2   seekingalpha.com  ...        1\n",
              "3   seekingalpha.com  ...        0\n",
              "4  www.thestreet.com  ...        0\n",
              "5   seekingalpha.com  ...        1\n",
              "6  www.thestreet.com  ...        1\n",
              "7   seekingalpha.com  ...        1\n",
              "8   seekingalpha.com  ...        1\n",
              "9  www.thestreet.com  ...        0\n",
              "\n",
              "[10 rows x 3 columns]"
            ]
          },
          "metadata": {
            "tags": []
          },
          "execution_count": 22
        }
      ]
    },
    {
      "cell_type": "code",
      "metadata": {
        "id": "Ip8UlgczIB6G"
      },
      "source": [
        "from sklearn.model_selection import train_test_split\n",
        "\n",
        "X_train, X_test, y_train, y_test = train_test_split(df['News'].values, df.iloc[:, -1].values, test_size = 0.2, random_state = 0)\n",
        "\n",
        "train_examples, train_labels = np.array(X_train), np.array(y_train)\n",
        "test_examples, test_labels = np.array(X_test), np.array(y_test)\n"
      ],
      "execution_count": 34,
      "outputs": []
    },
    {
      "cell_type": "code",
      "metadata": {
        "colab": {
          "base_uri": "https://localhost:8080/"
        },
        "id": "255ApnrVNQ_0",
        "outputId": "5d1630e6-3da1-48c0-c7cb-29613c3e3924"
      },
      "source": [
        "train_examples[:10]"
      ],
      "execution_count": 35,
      "outputs": [
        {
          "output_type": "execute_result",
          "data": {
            "text/plain": [
              "array(['Q1 ’16: -4.1%, -6.1% Source: Refinitiv IBES consensus estimates as of 10/22/18 Summary/conclusion: S&P 500 earnings growth is expected to slow to 10% in calendar 2019, and the numbers have been telling investors that for quite some time, as this blog discussed here . I don’t think this is the reason behind this market downdraft that started on October 1 ’18, but we’ll see. China is a growing issue – their growth has slowed and that has to come home to roost in US earnings at some point if it hasn’t already. Companies give some idea of next year’s guidance starting with the 3rd quarter earnings reports every year, but the real or hard guidance occurs with the January-February conference calls that contain 4th quarter results. If we average the above 2019 results, the Tech sector – over the 4 quarters – is expected to average 8.2% EPS growth and 5% revenue growth, inline with the S&P 500’s expected average of 9% EPS growth and 5% revenue growth. As we lap the corporate income tax rate reduction of 2018, the 2019 comps will be tougher, and the S&P 500 will show slower growth, which we’ve known for months. Technology looks to be expecting slower growth as well, but is inline with the S&P 500. However, much depends on Apple’s (NASDAQ: AAPL ) results next week, with their fiscal Q4 ’18 results. Tech has just finished a 6-quarter or 18-month growth cycle, coming out of 2015 and 2016. I worry more about the inevitable rotation from Growth and Momentum. That will likely depress Tech multiples and set readers up for an opportunity to overweight Tech. Clients’ Tech weighting was reduced this summer to roughly 18%-22% (and account weights can vary), which was a little early, but looks better now. After the creation of the Communications sectors, Technology’s market cap weighting within the S&P 500 fell to 20%. Thanks for reading.',\n",
              "       'Highlighting the potential for significant growth to its service business, JPMorgan analyst Samik Chatterjee initiated coverage of Apple Inc. ( AAPL-Q ) with an “overweight” rating.',\n",
              "       'Apple ( AAPL +1.1% ) is talking with at least three private Medicare plans to about getting the Apple Watch to at-risk seniors, according to CNBC sources .',\n",
              "       'Apple: Survey Says People Want Cheaper, Bigger iPhone, Says Piper By Tiernan Ray Mar 5, 2018, 9:13 am 34 pts Rumors of Apple’s (AAPL) 2018 lineup of iPhones are good news, writes Piper Jaffray’s Michael Olson this morning. He describes responses from his survey of iPhone users, showing price and the size of the screen are the big issues holding back people from upgrading. Olson, who has an…',\n",
              "       'Increasing traffic acquisition costs (TAC) paid to companies like Apple ( AAPL ) are being more than offset by operating leverage, after accounting for investments in growth. And the acceleration in earnings growth is likely to continue as TAC growth moderates in the coming quarters, according to management commentary .',\n",
              "       'The twist? You’re not talking to Alexa, or Siri, from Apple Inc. (NASDAQ: AAPL ). You’re not even talking to Watson, as far as you can tell. You’re talking to each organization’s unique version of Watson, taught to do what that company needs done.',\n",
              "       'Investors sentiment increased to 0.7 in 2017 Q3. Its up 0.02, from 0.68 in 2017Q2. It improved, as 52 investors sold AAPL shares while 1034 reduced holdings. 116 funds opened positions while 640 raised stakes. 2.97 billion shares or 2.78% less from 3.06 billion shares in 2017Q2 were reported. Pettee Invsts stated it has 15,440 shares. Stock Yards State Bank & reported 2.99% in Apple Inc. (NASDAQ:AAPL). Factory Mutual has 1.91M shares. Destination Wealth invested in 293,868 shares or 2.89% of the stock. Moreover, Riggs Asset Managment Inc has 2.49% invested in Apple Inc. (NASDAQ:AAPL) for 35,827 shares. 3,330 were accumulated by Schwartz Invest Counsel. Burke & Herbert Bancorp & Tru Comm holds 2.63% or 18,851 shares in its portfolio. The United Kingdom-based Investec Asset Management has invested 0.76% in Apple Inc. (NASDAQ:AAPL). 4,521 were reported by First Bank & Trust Sioux Falls. Hills National Bank Trust Com, a Iowa-based fund reported 41,860 shares. Glg Prns LP holds 10,042 shares. Criterion Capital Management Limited Liability Corp has invested 0.74% of its portfolio in Apple Inc. (NASDAQ:AAPL). The New York-based Engineers Gate Manager LP has invested 0.04% in Apple Inc. (NASDAQ:AAPL). 1,739 were reported by Boyar Asset. Cincinnati Ins holds 0.71% in Apple Inc. (NASDAQ:AAPL) or 154,000 shares. ',\n",
              "       \"Given that AAPL has a Zacks Rank #3 and an ESP in positive territory, investors might want to consider this stock ahead of earnings. You can see the complete list of today's Zacks #1 Rank (Strong Buy) stocks here . \",\n",
              "       'Last year, smart speaker sales went through the roof during the holidays. However, Apple (NASDAQ: AAPL ) missed out on the boost altogether, when its HomePod was delayed. With this year’s holiday shopping season entering the final stretch, Apple is employing a rare tactic in an attempt to gain momentum: emailing HomePod discount codes to Apple Music subscribers.',\n",
              "       \"Want to see what other hedge funds are holding AAPL? Visit HoldingsChannel.com to get the latest 13F filings and insider trades for Apple Inc. (NASDAQ:AAPL). Receive News & Ratings for Apple analysts' ratings for Apple and related companies daily email newsletter . «\"],\n",
              "      dtype=object)"
            ]
          },
          "metadata": {
            "tags": []
          },
          "execution_count": 35
        }
      ]
    },
    {
      "cell_type": "code",
      "metadata": {
        "colab": {
          "base_uri": "https://localhost:8080/"
        },
        "id": "jtEGldN0Nagp",
        "outputId": "50f46df5-d09b-409e-d2ec-d76a0ed2a051"
      },
      "source": [
        "train_labels[:10]"
      ],
      "execution_count": 36,
      "outputs": [
        {
          "output_type": "execute_result",
          "data": {
            "text/plain": [
              "array([0, 1, 0, 0, 0, 1, 0, 0, 0, 1])"
            ]
          },
          "metadata": {
            "tags": []
          },
          "execution_count": 36
        }
      ]
    },
    {
      "cell_type": "code",
      "metadata": {
        "colab": {
          "base_uri": "https://localhost:8080/"
        },
        "id": "bXVtTbcQOnYr",
        "outputId": "8b489492-b456-432e-83c7-08c603d50963"
      },
      "source": [
        "print(\"Training entries: {}, test entries: {}\".format(len(train_examples), len(test_examples)))"
      ],
      "execution_count": 37,
      "outputs": [
        {
          "output_type": "stream",
          "text": [
            "Training entries: 29251, test entries: 7313\n"
          ],
          "name": "stdout"
        }
      ]
    },
    {
      "cell_type": "code",
      "metadata": {
        "colab": {
          "base_uri": "https://localhost:8080/"
        },
        "id": "sMgIvoyrNiTA",
        "outputId": "2766ebbf-262b-44df-a1fb-e67c8408d531"
      },
      "source": [
        "model = \"https://tfhub.dev/google/nnlm-en-dim50/2\"\n",
        "hub_layer = hub.KerasLayer(model, input_shape=[], dtype=tf.string, trainable=True)\n",
        "hub_layer(train_examples[:3])"
      ],
      "execution_count": 38,
      "outputs": [
        {
          "output_type": "stream",
          "text": [
            "WARNING:tensorflow:7 out of the last 9 calls to <function recreate_function.<locals>.restored_function_body at 0x7fc1d17eeb00> triggered tf.function retracing. Tracing is expensive and the excessive number of tracings could be due to (1) creating @tf.function repeatedly in a loop, (2) passing tensors with different shapes, (3) passing Python objects instead of tensors. For (1), please define your @tf.function outside of the loop. For (2), @tf.function has experimental_relax_shapes=True option that relaxes argument shapes that can avoid unnecessary retracing. For (3), please refer to https://www.tensorflow.org/guide/function#controlling_retracing and https://www.tensorflow.org/api_docs/python/tf/function for  more details.\n"
          ],
          "name": "stdout"
        },
        {
          "output_type": "stream",
          "text": [
            "WARNING:tensorflow:7 out of the last 9 calls to <function recreate_function.<locals>.restored_function_body at 0x7fc1d17eeb00> triggered tf.function retracing. Tracing is expensive and the excessive number of tracings could be due to (1) creating @tf.function repeatedly in a loop, (2) passing tensors with different shapes, (3) passing Python objects instead of tensors. For (1), please define your @tf.function outside of the loop. For (2), @tf.function has experimental_relax_shapes=True option that relaxes argument shapes that can avoid unnecessary retracing. For (3), please refer to https://www.tensorflow.org/guide/function#controlling_retracing and https://www.tensorflow.org/api_docs/python/tf/function for  more details.\n"
          ],
          "name": "stderr"
        },
        {
          "output_type": "stream",
          "text": [
            "WARNING:tensorflow:8 out of the last 10 calls to <function recreate_function.<locals>.restored_function_body at 0x7fc1d17ee440> triggered tf.function retracing. Tracing is expensive and the excessive number of tracings could be due to (1) creating @tf.function repeatedly in a loop, (2) passing tensors with different shapes, (3) passing Python objects instead of tensors. For (1), please define your @tf.function outside of the loop. For (2), @tf.function has experimental_relax_shapes=True option that relaxes argument shapes that can avoid unnecessary retracing. For (3), please refer to https://www.tensorflow.org/guide/function#controlling_retracing and https://www.tensorflow.org/api_docs/python/tf/function for  more details.\n"
          ],
          "name": "stdout"
        },
        {
          "output_type": "stream",
          "text": [
            "WARNING:tensorflow:8 out of the last 10 calls to <function recreate_function.<locals>.restored_function_body at 0x7fc1d17ee440> triggered tf.function retracing. Tracing is expensive and the excessive number of tracings could be due to (1) creating @tf.function repeatedly in a loop, (2) passing tensors with different shapes, (3) passing Python objects instead of tensors. For (1), please define your @tf.function outside of the loop. For (2), @tf.function has experimental_relax_shapes=True option that relaxes argument shapes that can avoid unnecessary retracing. For (3), please refer to https://www.tensorflow.org/guide/function#controlling_retracing and https://www.tensorflow.org/api_docs/python/tf/function for  more details.\n"
          ],
          "name": "stderr"
        },
        {
          "output_type": "stream",
          "text": [
            "WARNING:tensorflow:9 out of the last 11 calls to <function recreate_function.<locals>.restored_function_body at 0x7fc1d1831680> triggered tf.function retracing. Tracing is expensive and the excessive number of tracings could be due to (1) creating @tf.function repeatedly in a loop, (2) passing tensors with different shapes, (3) passing Python objects instead of tensors. For (1), please define your @tf.function outside of the loop. For (2), @tf.function has experimental_relax_shapes=True option that relaxes argument shapes that can avoid unnecessary retracing. For (3), please refer to https://www.tensorflow.org/guide/function#controlling_retracing and https://www.tensorflow.org/api_docs/python/tf/function for  more details.\n"
          ],
          "name": "stdout"
        },
        {
          "output_type": "stream",
          "text": [
            "WARNING:tensorflow:9 out of the last 11 calls to <function recreate_function.<locals>.restored_function_body at 0x7fc1d1831680> triggered tf.function retracing. Tracing is expensive and the excessive number of tracings could be due to (1) creating @tf.function repeatedly in a loop, (2) passing tensors with different shapes, (3) passing Python objects instead of tensors. For (1), please define your @tf.function outside of the loop. For (2), @tf.function has experimental_relax_shapes=True option that relaxes argument shapes that can avoid unnecessary retracing. For (3), please refer to https://www.tensorflow.org/guide/function#controlling_retracing and https://www.tensorflow.org/api_docs/python/tf/function for  more details.\n"
          ],
          "name": "stderr"
        },
        {
          "output_type": "execute_result",
          "data": {
            "text/plain": [
              "<tf.Tensor: shape=(3, 50), dtype=float32, numpy=\n",
              "array([[ 1.2355471 ,  0.11719096, -0.19826788,  0.62281877, -0.49590316,\n",
              "        -0.738948  ,  0.7471023 ,  0.61302024, -0.501993  ,  0.2771705 ,\n",
              "         0.07472976,  0.25415528,  0.35520852, -0.36702234,  0.62300056,\n",
              "        -0.7748881 , -0.56931186,  0.45307308,  0.5203001 , -0.03229528,\n",
              "        -0.09448511, -0.35797906,  0.9466501 , -0.08701267,  0.12805209,\n",
              "         0.23130086, -0.6522287 ,  0.44974676, -0.20601137, -0.37608024,\n",
              "         0.21680853, -0.1402651 ,  0.773747  , -0.58659416, -0.07478948,\n",
              "        -0.08432465,  0.37597057, -0.5652265 ,  0.03625645, -0.664764  ,\n",
              "        -0.5988652 ,  0.03650454,  0.3608431 ,  0.5561065 , -0.47489214,\n",
              "        -0.78675216, -0.35815898, -0.03418034, -0.09439875,  0.2157843 ],\n",
              "       [ 0.20898803, -0.37149653,  0.1520238 ,  0.07758274,  0.06931368,\n",
              "        -0.05553383, -0.02514357,  0.19448043, -0.05831357, -0.20240895,\n",
              "        -0.28871888,  0.04763449,  0.11879189, -0.27784148,  0.5745588 ,\n",
              "         0.02003175, -0.1034577 ,  0.2906643 ,  0.00982231,  0.0480089 ,\n",
              "        -0.05520256, -0.28449568,  0.17477784, -0.23907796, -0.11831628,\n",
              "        -0.03490403,  0.01137603,  0.23219433, -0.13676652,  0.01163242,\n",
              "         0.15685223, -0.0347483 , -0.05929662, -0.09887181, -0.05074861,\n",
              "        -0.1335763 ,  0.31326506, -0.17570776, -0.03336982,  0.11695226,\n",
              "        -0.10018534, -0.13103545,  0.03787977,  0.29210827, -0.03673378,\n",
              "        -0.3892708 ,  0.1345425 , -0.03735431, -0.0493186 ,  0.17875238],\n",
              "       [ 0.05457494,  0.0303298 , -0.12102827,  0.26758152,  0.09199125,\n",
              "         0.10085252,  0.06397009, -0.11483375,  0.14231266, -0.03171711,\n",
              "        -0.12512861,  0.16480108, -0.0893893 , -0.19078138,  0.04061276,\n",
              "         0.10066611, -0.19112413,  0.29602993,  0.21310265,  0.16231702,\n",
              "         0.12178949, -0.11619021,  0.13097899, -0.08877624, -0.254493  ,\n",
              "         0.03647542, -0.15634403,  0.07700951, -0.04293624,  0.14340451,\n",
              "         0.02243923, -0.09005149,  0.20288457, -0.23973471, -0.14015701,\n",
              "        -0.11732321, -0.09656764, -0.04261828,  0.08668074,  0.13635187,\n",
              "        -0.0079848 , -0.13173303,  0.20426852,  0.18298975, -0.41210204,\n",
              "        -0.3708227 , -0.04105363, -0.13038684,  0.1087723 ,  0.26722184]],\n",
              "      dtype=float32)>"
            ]
          },
          "metadata": {
            "tags": []
          },
          "execution_count": 38
        }
      ]
    },
    {
      "cell_type": "code",
      "metadata": {
        "id": "esSJoZRNOeNp"
      },
      "source": [
        "from sklearn.tree import DecisionTreeClassifier\n",
        "\n",
        "classifier = DecisionTreeClassifier()\n",
        "#classifier.fit(train_examples, train_labels)"
      ],
      "execution_count": 39,
      "outputs": []
    },
    {
      "cell_type": "code",
      "metadata": {
        "id": "bIKBjnkIO1R9"
      },
      "source": [
        ""
      ],
      "execution_count": 11,
      "outputs": []
    },
    {
      "cell_type": "code",
      "metadata": {
        "id": "zBbc9vMcO5qm"
      },
      "source": [
        "x_val = train_examples[:10000]\n",
        "partial_x_train = train_examples[10000:]\n",
        "\n",
        "y_val = train_labels[:10000]\n",
        "partial_y_train = train_labels[10000:]"
      ],
      "execution_count": 17,
      "outputs": []
    },
    {
      "cell_type": "code",
      "metadata": {
        "id": "FKmnnMz5eUUW"
      },
      "source": [
        "classifier.fit(hub_layer(train_examples), y_train)"
      ],
      "execution_count": null,
      "outputs": []
    },
    {
      "cell_type": "code",
      "metadata": {
        "colab": {
          "base_uri": "https://localhost:8080/"
        },
        "id": "LP8UvPdTPD-B",
        "outputId": "49cf1b26-6592-4add-bad4-1505b94d1186"
      },
      "source": [
        "test_val = np.array(hub_layer(test_examples))\n",
        "\n",
        "print(test_val[:10])"
      ],
      "execution_count": 50,
      "outputs": [
        {
          "output_type": "stream",
          "text": [
            "[[ 2.82547116e-01 -2.34666765e-01 -2.14027941e-01 -4.65551205e-02\n",
            "  -1.11681029e-01 -1.58526242e-01  1.72551587e-01  1.88051194e-01\n",
            "  -1.42896399e-01  5.81438392e-02 -4.65896241e-02  2.55970299e-01\n",
            "   2.59896100e-01 -2.60172904e-01  8.69553834e-02  1.76518798e-01\n",
            "   2.52628215e-02  1.75248235e-01  2.75710374e-01  1.12865597e-01\n",
            "  -4.64544492e-03 -2.11440157e-02  2.00407580e-01 -2.24034563e-01\n",
            "  -4.72124666e-02  7.35704601e-02 -3.60729069e-01  7.35478252e-02\n",
            "  -2.72688400e-02  2.22680885e-02  2.71626353e-01  1.92006350e-01\n",
            "   3.24577615e-02 -6.74752742e-02  3.05076540e-01 -1.86266899e-02\n",
            "   9.89515632e-02  7.47746006e-02 -1.14414521e-01  1.37996823e-01\n",
            "  -9.00528431e-02  1.86133102e-01  5.17327413e-02  2.16062278e-01\n",
            "   3.18861961e-01 -2.44425565e-01 -9.02021080e-02  4.17774841e-02\n",
            "  -8.43402743e-03  1.35443002e-01]\n",
            " [ 2.62121499e-01  3.94896477e-01 -8.52603987e-02  1.85536131e-01\n",
            "   2.11890507e-02 -5.37062883e-02  4.39397603e-01 -3.63258988e-01\n",
            "  -3.06484759e-01  3.75550658e-01  1.43908644e-02 -4.60889190e-03\n",
            "   4.62420732e-02 -2.88685173e-01  5.11881769e-01 -1.27615020e-01\n",
            "  -4.84231144e-01  4.03207690e-02  2.04728037e-01  4.07574847e-02\n",
            "  -9.04182196e-02 -5.39565623e-01  1.63266391e-01 -3.09668660e-01\n",
            "   1.54865518e-01  2.97714263e-01 -8.24909031e-01  1.95410579e-01\n",
            "  -2.04467699e-01 -2.34445423e-01  2.79618829e-01 -2.55707324e-01\n",
            "   3.32675189e-01 -4.07839984e-01 -6.48294330e-01 -3.85404937e-02\n",
            "  -7.36076385e-02 -5.60685433e-03 -3.70829672e-01 -5.22592068e-01\n",
            "   2.27207765e-02  1.24357767e-01  5.67409582e-02  5.37338197e-01\n",
            "   2.12365389e-01 -1.03735037e-01  3.79126072e-01 -2.09083036e-01\n",
            "   3.95982742e-01  5.38797557e-01]\n",
            " [ 5.82357794e-02  7.86865829e-04 -2.16398105e-01  4.78626154e-02\n",
            "   1.18364871e-01 -3.09329748e-01  9.88902450e-02  2.10025996e-01\n",
            "   1.81002602e-01 -3.39574926e-02 -9.47945809e-04  4.46472205e-02\n",
            "   1.05866760e-01 -7.58212283e-02  1.94061264e-01  3.63127552e-02\n",
            "  -2.73654759e-01  3.32871079e-01  2.90343642e-01  8.83919075e-02\n",
            "  -5.90471327e-02  7.46083930e-02  2.57891178e-01  7.13155195e-02\n",
            "   2.22785622e-02 -2.58291572e-01  2.12161373e-02  1.18011594e-01\n",
            "  -1.30350754e-01  2.71566659e-01 -1.53564870e-01 -1.65538058e-01\n",
            "  -8.50186218e-03 -9.28957835e-02  1.17902897e-01 -1.32044312e-02\n",
            "  -1.75720491e-02  1.04742078e-02 -4.75610904e-02  1.37290493e-01\n",
            "   1.65312849e-02 -6.34747222e-02  1.93711126e-03 -7.25591704e-02\n",
            "  -1.44459262e-01 -1.85995340e-01 -1.63217753e-01 -1.17938211e-02\n",
            "   8.87568891e-02 -1.16493404e-01]\n",
            " [ 4.88282740e-01 -3.20014715e-01 -6.74966425e-02  2.67737120e-01\n",
            "   1.37995243e-01 -2.95434386e-01  9.95490551e-02  2.46569976e-01\n",
            "   2.23170756e-03  3.70152779e-02  6.05000108e-02  3.76540005e-01\n",
            "   3.68596092e-02 -1.11169457e-01  2.13232990e-02  7.40261078e-02\n",
            "   8.88514444e-02  3.44980985e-01 -8.59001726e-02 -1.80321727e-02\n",
            "   4.16495763e-02 -9.50668082e-02  1.50957108e-01  1.45440638e-01\n",
            "   7.76185319e-02 -2.15931356e-01  8.01907852e-02  1.56350344e-01\n",
            "  -9.63428151e-03  6.73490316e-02 -1.36809006e-01  2.38566995e-02\n",
            "  -7.98927024e-02 -1.92713857e-01  1.38516784e-01 -1.12242959e-01\n",
            "   1.97246775e-01 -1.11939572e-01  2.01635882e-01 -1.03087671e-01\n",
            "  -6.88791135e-03  8.84868875e-02 -1.61282405e-01  2.16887698e-01\n",
            "  -1.41593009e-01 -2.29878619e-01 -2.07172260e-02  1.23759359e-02\n",
            "  -7.67144933e-02  2.71065146e-01]\n",
            " [ 6.17343187e-01 -5.11532165e-02  2.19274983e-01  3.48582625e-01\n",
            "  -2.95625508e-01 -9.56201851e-02 -1.94197111e-02  6.31150324e-05\n",
            "  -1.57830745e-01 -2.03572020e-01 -4.22880590e-01  5.22819221e-01\n",
            "  -2.36940578e-01 -2.83234984e-01  1.06047511e-01  1.45809203e-01\n",
            "  -2.94773012e-01  2.89839715e-01  2.44088396e-01  1.56693906e-01\n",
            "  -2.07834065e-01 -5.37436485e-01  6.15004972e-02 -2.28668436e-01\n",
            "  -9.13168564e-02 -8.26805830e-02 -2.16900229e-01  4.29273993e-01\n",
            "  -1.75670639e-01  1.02687776e-01 -9.98778492e-02 -6.18301034e-02\n",
            "  -8.28887988e-03  4.44911197e-02  5.16026556e-01 -1.95246428e-01\n",
            "   2.10197732e-01  1.52075663e-02  1.00475751e-01 -2.76573122e-01\n",
            "   9.76934209e-02 -2.19223976e-01 -2.92542756e-01  3.57771069e-01\n",
            "   1.06598742e-01 -4.09409791e-01 -2.37600535e-01 -5.07109463e-02\n",
            "   5.84297851e-02  3.49689305e-01]\n",
            " [ 4.67339247e-01 -1.26256183e-01  2.14587934e-02  3.82966518e-01\n",
            "   2.11090878e-01 -3.49712253e-01  3.62805009e-01  2.71774054e-01\n",
            "   6.22756183e-01  5.65364659e-02 -3.13310117e-01  2.27477267e-01\n",
            "  -6.09819777e-02 -5.35412848e-01  5.60455680e-01  1.31646339e-02\n",
            "  -1.03293516e-01  8.81970450e-02  1.73938960e-01  3.35756600e-01\n",
            "  -2.01136336e-01 -6.26373708e-01  1.81452677e-01  2.63625324e-01\n",
            "   8.49061087e-02  6.67527616e-02 -2.05406636e-01  2.99863189e-01\n",
            "  -3.62999946e-01  1.48657292e-01  1.38344407e-01 -5.28288722e-01\n",
            "  -4.27781008e-02 -3.10905159e-01  2.03484923e-01 -1.29966557e-01\n",
            "   1.90396920e-01 -1.11604996e-01 -4.33829099e-01  1.17570981e-01\n",
            "  -2.74766624e-01 -3.04826289e-01 -1.22199208e-01  7.26287425e-01\n",
            "   2.07221970e-01 -7.04988360e-01 -1.10665195e-01  3.72376107e-02\n",
            "  -2.14079723e-01 -4.27540056e-02]\n",
            " [ 4.43691194e-01 -9.52929258e-02  1.27303734e-01  2.13335335e-01\n",
            "  -7.79546127e-02 -2.90846378e-01  4.45190072e-01  3.42785388e-01\n",
            "  -1.47416219e-01 -4.95214611e-02 -5.00703216e-01  6.02410197e-01\n",
            "  -6.91176951e-02 -3.32977176e-01 -3.31728719e-02 -1.33890375e-01\n",
            "  -4.48013842e-01  3.17667872e-01  1.77532807e-01 -1.70864329e-01\n",
            "   1.69982091e-01 -2.38223717e-01  6.43539786e-01 -5.77441864e-02\n",
            "  -4.11252856e-01  2.60753989e-01 -3.70793015e-01  4.35173333e-01\n",
            "  -2.04923842e-03 -2.14793816e-01 -1.67566031e-01 -4.50588763e-01\n",
            "   2.33791888e-01 -3.40449661e-01 -7.41885006e-02  1.71972394e-01\n",
            "   1.23204045e-01 -5.71549982e-02 -3.34155746e-02 -4.56813127e-01\n",
            "   1.54284174e-02 -8.47946554e-02 -2.88386084e-02  5.14559269e-01\n",
            "  -2.92094015e-02 -3.66249770e-01 -1.08254239e-01 -2.04510063e-01\n",
            "  -3.39009874e-02  7.64191449e-02]\n",
            " [ 7.87668467e-01 -4.52649176e-01 -1.57022506e-01  5.12677491e-01\n",
            "  -2.00666636e-01 -4.15435374e-01  4.91758227e-01  3.34353775e-01\n",
            "   5.86404324e-01 -1.53795227e-01 -1.09340651e-02  1.73300251e-01\n",
            "   2.10611761e-01 -5.52765429e-01  6.77682281e-01 -2.75109380e-01\n",
            "  -3.83680493e-01  2.06167728e-01  1.04917184e-01  5.41615009e-01\n",
            "  -4.54352140e-01 -4.26832527e-01  3.79705399e-01  3.78889330e-02\n",
            "   4.23894078e-01 -9.88544822e-02 -1.31746590e-01  1.95393696e-01\n",
            "  -2.42794827e-01 -9.63681862e-02 -1.59997046e-01  4.40646186e-02\n",
            "   3.16664517e-01 -2.65425116e-01  1.09672405e-01  1.36057541e-01\n",
            "   4.42894340e-01 -5.65584004e-01 -2.45651752e-01 -1.03114890e-02\n",
            "  -5.21857619e-01 -3.55050266e-01  1.99553177e-01  3.83209795e-01\n",
            "  -4.78219777e-01 -9.61192548e-01 -4.63414714e-02  1.36498272e-01\n",
            "   2.27787033e-01  1.30251855e-01]\n",
            " [ 4.76651907e-01 -1.73527319e-02 -3.72987092e-02  4.87056702e-01\n",
            "  -4.11035717e-02 -2.94510871e-01  2.68673271e-01 -1.93053365e-01\n",
            "   4.80120927e-01  1.16851158e-01 -2.10904703e-01  3.83937865e-01\n",
            "  -9.59081873e-02 -6.75879493e-02  2.60835379e-01 -1.00468032e-01\n",
            "  -2.15383515e-01  3.29417795e-01  1.31573588e-01  2.01738682e-02\n",
            "  -6.98937550e-02 -2.72143602e-01  5.04418433e-01  2.46311188e-01\n",
            "  -6.45973533e-02 -1.11063905e-02 -3.24941486e-01  4.23038870e-01\n",
            "  -2.78399020e-01 -1.24712549e-02  2.28103697e-01  2.25264132e-01\n",
            "   2.89199185e-02 -2.96908438e-01  2.07365572e-01 -1.42635509e-01\n",
            "   6.40047491e-02 -1.19174011e-01 -1.87635839e-01  1.32835448e-01\n",
            "  -1.90024182e-01 -2.06437841e-01  2.52202898e-02  3.04987699e-01\n",
            "  -2.45009154e-01 -6.33455634e-01 -4.83280495e-02 -2.83125555e-03\n",
            "   1.18173704e-01  1.80569410e-01]\n",
            " [ 4.30847108e-01 -3.31616223e-01 -1.33586615e-01  2.22311959e-01\n",
            "  -2.81307071e-01 -4.32980239e-01  2.66826689e-01  1.20702468e-01\n",
            "   1.27363935e-01 -5.22778481e-02 -4.84931804e-02  4.27920282e-01\n",
            "   2.04197451e-01 -1.50967389e-01  2.56916970e-01  2.22009435e-01\n",
            "  -2.27585346e-01  7.74601176e-02  3.64003330e-01 -7.31432214e-02\n",
            "   1.35203749e-01 -3.81940156e-01  4.49964523e-01  6.48792759e-02\n",
            "   9.07055940e-03  4.08636987e-01 -2.60372519e-01  3.47496867e-01\n",
            "  -1.73179805e-01  1.68975711e-01  3.69359523e-01 -3.76654178e-01\n",
            "   1.39356226e-01 -1.63553387e-01  2.18697071e-01 -1.99181348e-01\n",
            "   1.47765264e-01  8.50760490e-02 -2.56763585e-03 -9.25960243e-02\n",
            "  -4.95415390e-01  8.19938406e-02 -2.25845333e-02  3.39348495e-01\n",
            "  -4.35232557e-02 -7.11614311e-01  2.92674392e-01 -7.48481303e-02\n",
            "   2.09458023e-01 -2.41995305e-02]]\n"
          ],
          "name": "stdout"
        }
      ]
    },
    {
      "cell_type": "code",
      "metadata": {
        "id": "YUy99xaDehHL"
      },
      "source": [
        "y_pred = classifier.predict(test_val)"
      ],
      "execution_count": 51,
      "outputs": []
    },
    {
      "cell_type": "code",
      "metadata": {
        "colab": {
          "base_uri": "https://localhost:8080/"
        },
        "id": "2gzSCOEhUX0N",
        "outputId": "a3d92a62-f33d-418a-9dde-8b94eed1e0df"
      },
      "source": [
        "from sklearn.metrics import accuracy_score, confusion_matrix\n",
        "print(accuracy_score(test_labels, y_pred)*100,\"%\")\n",
        "print(confusion_matrix(test_labels, y_pred))"
      ],
      "execution_count": 53,
      "outputs": [
        {
          "output_type": "stream",
          "text": [
            "56.830302201558865 %\n",
            "[[2390 1561]\n",
            " [1596 1766]]\n"
          ],
          "name": "stdout"
        }
      ]
    },
    {
      "cell_type": "code",
      "metadata": {
        "id": "2LsqhWOKUZl6"
      },
      "source": [
        ""
      ],
      "execution_count": null,
      "outputs": []
    }
  ]
}