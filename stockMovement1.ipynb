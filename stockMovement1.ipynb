{
  "nbformat": 4,
  "nbformat_minor": 0,
  "metadata": {
    "colab": {
      "name": "stockMovement1.ipynb",
      "provenance": [],
      "authorship_tag": "ABX9TyNhO1cVrRsXWVOXzu9WsViP",
      "include_colab_link": true
    },
    "kernelspec": {
      "name": "python3",
      "display_name": "Python 3"
    },
    "language_info": {
      "name": "python"
    }
  },
  "cells": [
    {
      "cell_type": "markdown",
      "metadata": {
        "id": "view-in-github",
        "colab_type": "text"
      },
      "source": [
        "<a href=\"https://colab.research.google.com/github/vktiwary007/stock-move-eureka/blob/main/stockMovement1.ipynb\" target=\"_parent\"><img src=\"https://colab.research.google.com/assets/colab-badge.svg\" alt=\"Open In Colab\"/></a>"
      ]
    },
    {
      "cell_type": "code",
      "metadata": {
        "id": "yt_cE5Bm2HTx",
        "colab": {
          "base_uri": "https://localhost:8080/"
        },
        "outputId": "4c0fdea6-b8f7-4836-ea4b-057048a0c164"
      },
      "source": [
        "import numpy as np\n",
        "import pandas as pd\n",
        "\n",
        "import tensorflow as tf\n",
        "import tensorflow_hub as hub\n",
        "import tensorflow_datasets as tfds\n",
        "\n",
        "import matplotlib.pyplot as plt\n",
        "\n",
        "print(\"Version: \", tf.__version__)\n",
        "print(\"Eager mode: \", tf.executing_eagerly())\n",
        "print(\"Hub version: \", hub.__version__)\n",
        "print(\"GPU is\", \"available\" if tf.config.list_physical_devices('GPU') else \"NOT AVAILABLE\")"
      ],
      "execution_count": 62,
      "outputs": [
        {
          "output_type": "stream",
          "text": [
            "Version:  2.4.1\n",
            "Eager mode:  True\n",
            "Hub version:  0.11.0\n",
            "GPU is NOT AVAILABLE\n"
          ],
          "name": "stdout"
        }
      ]
    },
    {
      "cell_type": "code",
      "metadata": {
        "id": "mhtkn5qPHLTA"
      },
      "source": [
        "import io\n",
        "df = pd.read_csv('Apple240.csv', skiprows=0)"
      ],
      "execution_count": 63,
      "outputs": []
    },
    {
      "cell_type": "code",
      "metadata": {
        "colab": {
          "base_uri": "https://localhost:8080/",
          "height": 359
        },
        "id": "4Qhd_OSJH9TD",
        "outputId": "7278603e-6a9e-426f-ece8-03dfdb879ff6"
      },
      "source": [
        "df[:10]"
      ],
      "execution_count": 64,
      "outputs": [
        {
          "output_type": "execute_result",
          "data": {
            "text/html": [
              "<div>\n",
              "<style scoped>\n",
              "    .dataframe tbody tr th:only-of-type {\n",
              "        vertical-align: middle;\n",
              "    }\n",
              "\n",
              "    .dataframe tbody tr th {\n",
              "        vertical-align: top;\n",
              "    }\n",
              "\n",
              "    .dataframe thead th {\n",
              "        text-align: right;\n",
              "    }\n",
              "</style>\n",
              "<table border=\"1\" class=\"dataframe\">\n",
              "  <thead>\n",
              "    <tr style=\"text-align: right;\">\n",
              "      <th></th>\n",
              "      <th>Source</th>\n",
              "      <th>News</th>\n",
              "      <th>Movement</th>\n",
              "    </tr>\n",
              "  </thead>\n",
              "  <tbody>\n",
              "    <tr>\n",
              "      <th>0</th>\n",
              "      <td>seekingalpha.com</td>\n",
              "      <td>Bearish Calls Lumentum (NASDAQ: LITE ): It's a...</td>\n",
              "      <td>1</td>\n",
              "    </tr>\n",
              "    <tr>\n",
              "      <th>1</th>\n",
              "      <td>seekingalpha.com</td>\n",
              "      <td>The areas to be concerned are that there are f...</td>\n",
              "      <td>1</td>\n",
              "    </tr>\n",
              "    <tr>\n",
              "      <th>2</th>\n",
              "      <td>seekingalpha.com</td>\n",
              "      <td>Amazon will soon resume selling the Apple TV (...</td>\n",
              "      <td>1</td>\n",
              "    </tr>\n",
              "    <tr>\n",
              "      <th>3</th>\n",
              "      <td>seekingalpha.com</td>\n",
              "      <td>Facing questions from tech analysts, Apple (NA...</td>\n",
              "      <td>0</td>\n",
              "    </tr>\n",
              "    <tr>\n",
              "      <th>4</th>\n",
              "      <td>www.thestreet.com</td>\n",
              "      <td>Cramer and the AAP team say investors need to ...</td>\n",
              "      <td>0</td>\n",
              "    </tr>\n",
              "    <tr>\n",
              "      <th>5</th>\n",
              "      <td>seekingalpha.com</td>\n",
              "      <td>One day after Apple acknowledged that it has b...</td>\n",
              "      <td>1</td>\n",
              "    </tr>\n",
              "    <tr>\n",
              "      <th>6</th>\n",
              "      <td>www.thestreet.com</td>\n",
              "      <td>1 . -- U.S. stock futures turned lower on Tues...</td>\n",
              "      <td>1</td>\n",
              "    </tr>\n",
              "    <tr>\n",
              "      <th>7</th>\n",
              "      <td>seekingalpha.com</td>\n",
              "      <td>Meanwhile, eight more lawsuits have been filed...</td>\n",
              "      <td>1</td>\n",
              "    </tr>\n",
              "    <tr>\n",
              "      <th>8</th>\n",
              "      <td>seekingalpha.com</td>\n",
              "      <td>Shares in Apple and several of its suppliers f...</td>\n",
              "      <td>1</td>\n",
              "    </tr>\n",
              "    <tr>\n",
              "      <th>9</th>\n",
              "      <td>www.thestreet.com</td>\n",
              "      <td>1 . -- U.S. stock futures traded slightly high...</td>\n",
              "      <td>0</td>\n",
              "    </tr>\n",
              "  </tbody>\n",
              "</table>\n",
              "</div>"
            ],
            "text/plain": [
              "              Source  ... Movement\n",
              "0   seekingalpha.com  ...        1\n",
              "1   seekingalpha.com  ...        1\n",
              "2   seekingalpha.com  ...        1\n",
              "3   seekingalpha.com  ...        0\n",
              "4  www.thestreet.com  ...        0\n",
              "5   seekingalpha.com  ...        1\n",
              "6  www.thestreet.com  ...        1\n",
              "7   seekingalpha.com  ...        1\n",
              "8   seekingalpha.com  ...        1\n",
              "9  www.thestreet.com  ...        0\n",
              "\n",
              "[10 rows x 3 columns]"
            ]
          },
          "metadata": {
            "tags": []
          },
          "execution_count": 64
        }
      ]
    },
    {
      "cell_type": "code",
      "metadata": {
        "colab": {
          "base_uri": "https://localhost:8080/"
        },
        "id": "N1k5hHEThyQx",
        "outputId": "66d189a1-c5b0-4f4c-8fa2-7d5f46945076"
      },
      "source": [
        "import re\n",
        "import nltk\n",
        "nltk.download('stopwords')\n",
        "from nltk.corpus import stopwords\n",
        "from nltk.stem.porter import PorterStemmer\n",
        "news = []\n",
        "print(df.head(5))\n",
        "stopSet = set(stopwords.words('english'))\n",
        "for i in range (0, len(df)):\n",
        "  text = re.sub('[^a-zA-Z]', ' ', df['News'][i])\n",
        "  text = text.lower()\n",
        "  text = text.split()\n",
        "  ps = PorterStemmer()\n",
        "  text = [ps.stem(word) for word in text if not word in stopSet]\n",
        "  text = ' '.join(text)\n",
        "  news.append(text)"
      ],
      "execution_count": 76,
      "outputs": [
        {
          "output_type": "stream",
          "text": [
            "[nltk_data] Downloading package stopwords to /root/nltk_data...\n",
            "[nltk_data]   Package stopwords is already up-to-date!\n",
            "              Source  ... Movement\n",
            "0   seekingalpha.com  ...        1\n",
            "1   seekingalpha.com  ...        1\n",
            "2   seekingalpha.com  ...        1\n",
            "3   seekingalpha.com  ...        0\n",
            "4  www.thestreet.com  ...        0\n",
            "\n",
            "[5 rows x 3 columns]\n"
          ],
          "name": "stdout"
        }
      ]
    },
    {
      "cell_type": "code",
      "metadata": {
        "id": "Ip8UlgczIB6G"
      },
      "source": [
        "from sklearn.model_selection import train_test_split\n",
        "\n",
        "X_train, X_test, y_train, y_test = train_test_split(news, df.iloc[:, -1].values, test_size = 0.2, random_state = 0)\n",
        "\n",
        "train_examples, train_labels = np.array(X_train), np.array(y_train)\n",
        "test_examples, test_labels = np.array(X_test), np.array(y_test)\n"
      ],
      "execution_count": 77,
      "outputs": []
    },
    {
      "cell_type": "code",
      "metadata": {
        "colab": {
          "base_uri": "https://localhost:8080/"
        },
        "id": "255ApnrVNQ_0",
        "outputId": "b3e2591d-2dab-4029-c1b0-259b8ac825e4"
      },
      "source": [
        "train_examples[:10]"
      ],
      "execution_count": 78,
      "outputs": [
        {
          "output_type": "execute_result",
          "data": {
            "text/plain": [
              "array(['q sourc refinitiv ibe consensu estim summari conclus p earn growth expect slow calendar number tell investor quit time blog discuss think reason behind market downdraft start octob see china grow issu growth slow come home roost us earn point alreadi compani give idea next year guidanc start rd quarter earn report everi year real hard guidanc occur januari februari confer call contain th quarter result averag result tech sector quarter expect averag ep growth revenu growth inlin p expect averag ep growth revenu growth lap corpor incom tax rate reduct comp tougher p show slower growth known month technolog look expect slower growth well inlin p howev much depend appl nasdaq aapl result next week fiscal q result tech finish quarter month growth cycl come worri inevit rotat growth momentum like depress tech multipl set reader opportun overweight tech client tech weight reduc summer roughli account weight vari littl earli look better creation commun sector technolog market cap weight within p fell thank read',\n",
              "       'highlight potenti signific growth servic busi jpmorgan analyst samik chatterje initi coverag appl inc aapl q overweight rate',\n",
              "       'appl aapl talk least three privat medicar plan get appl watch risk senior accord cnbc sourc',\n",
              "       'appl survey say peopl want cheaper bigger iphon say piper tiernan ray mar pt rumor appl aapl lineup iphon good news write piper jaffray michael olson morn describ respons survey iphon user show price size screen big issu hold back peopl upgrad olson',\n",
              "       'increas traffic acquisit cost tac paid compani like appl aapl offset oper leverag account invest growth acceler earn growth like continu tac growth moder come quarter accord manag commentari',\n",
              "       'twist talk alexa siri appl inc nasdaq aapl even talk watson far tell talk organ uniqu version watson taught compani need done',\n",
              "       'investor sentiment increas q q improv investor sold aapl share reduc hold fund open posit rais stake billion share less billion share q report pette invst state share stock yard state bank report appl inc nasdaq aapl factori mutual share destin wealth invest share stock moreov rigg asset manag inc invest appl inc nasdaq aapl share accumul schwartz invest counsel burk herbert bancorp tru comm hold share portfolio unit kingdom base investec asset manag invest appl inc nasdaq aapl report first bank trust sioux fall hill nation bank trust com iowa base fund report share glg prn lp hold share criterion capit manag limit liabil corp invest portfolio appl inc nasdaq aapl new york base engin gate manag lp invest appl inc nasdaq aapl report boyar asset cincinnati in hold appl inc nasdaq aapl share',\n",
              "       'given aapl zack rank esp posit territori investor might want consid stock ahead earn see complet list today zack rank strong buy stock',\n",
              "       'last year smart speaker sale went roof holiday howev appl nasdaq aapl miss boost altogeth homepod delay year holiday shop season enter final stretch appl employ rare tactic attempt gain momentum email homepod discount code appl music subscrib',\n",
              "       'want see hedg fund hold aapl visit holdingschannel com get latest f file insid trade appl inc nasdaq aapl receiv news rate appl analyst rate appl relat compani daili email newslett'],\n",
              "      dtype='<U10504')"
            ]
          },
          "metadata": {
            "tags": []
          },
          "execution_count": 78
        }
      ]
    },
    {
      "cell_type": "code",
      "metadata": {
        "colab": {
          "base_uri": "https://localhost:8080/"
        },
        "id": "jtEGldN0Nagp",
        "outputId": "6cc59e5b-5312-4772-9998-1bdbf038f89d"
      },
      "source": [
        "train_labels[:10]"
      ],
      "execution_count": 79,
      "outputs": [
        {
          "output_type": "execute_result",
          "data": {
            "text/plain": [
              "array([0, 1, 0, 0, 0, 1, 0, 0, 0, 1])"
            ]
          },
          "metadata": {
            "tags": []
          },
          "execution_count": 79
        }
      ]
    },
    {
      "cell_type": "code",
      "metadata": {
        "colab": {
          "base_uri": "https://localhost:8080/"
        },
        "id": "bXVtTbcQOnYr",
        "outputId": "1468ee9f-e6c6-4c7f-c480-a2b77943f0d0"
      },
      "source": [
        "print(\"Training entries: {}, test entries: {}\".format(len(train_examples), len(test_examples)))"
      ],
      "execution_count": 80,
      "outputs": [
        {
          "output_type": "stream",
          "text": [
            "Training entries: 29251, test entries: 7313\n"
          ],
          "name": "stdout"
        }
      ]
    },
    {
      "cell_type": "code",
      "metadata": {
        "colab": {
          "base_uri": "https://localhost:8080/"
        },
        "id": "sMgIvoyrNiTA",
        "outputId": "cfcb2d49-3efe-4bc9-fa41-bb730d906b0e"
      },
      "source": [
        "model = \"https://tfhub.dev/google/nnlm-en-dim128/2\"\n",
        "hub_layer = hub.KerasLayer(model, input_shape=[], dtype=tf.string, trainable=True)\n",
        "hub_layer(train_examples[:3])"
      ],
      "execution_count": 81,
      "outputs": [
        {
          "output_type": "stream",
          "text": [
            "WARNING:tensorflow:7 out of the last 11 calls to <function recreate_function.<locals>.restored_function_body at 0x7fc1cd3ef7a0> triggered tf.function retracing. Tracing is expensive and the excessive number of tracings could be due to (1) creating @tf.function repeatedly in a loop, (2) passing tensors with different shapes, (3) passing Python objects instead of tensors. For (1), please define your @tf.function outside of the loop. For (2), @tf.function has experimental_relax_shapes=True option that relaxes argument shapes that can avoid unnecessary retracing. For (3), please refer to https://www.tensorflow.org/guide/function#controlling_retracing and https://www.tensorflow.org/api_docs/python/tf/function for  more details.\n"
          ],
          "name": "stdout"
        },
        {
          "output_type": "stream",
          "text": [
            "WARNING:tensorflow:7 out of the last 11 calls to <function recreate_function.<locals>.restored_function_body at 0x7fc1cd3ef7a0> triggered tf.function retracing. Tracing is expensive and the excessive number of tracings could be due to (1) creating @tf.function repeatedly in a loop, (2) passing tensors with different shapes, (3) passing Python objects instead of tensors. For (1), please define your @tf.function outside of the loop. For (2), @tf.function has experimental_relax_shapes=True option that relaxes argument shapes that can avoid unnecessary retracing. For (3), please refer to https://www.tensorflow.org/guide/function#controlling_retracing and https://www.tensorflow.org/api_docs/python/tf/function for  more details.\n"
          ],
          "name": "stderr"
        },
        {
          "output_type": "stream",
          "text": [
            "WARNING:tensorflow:7 out of the last 11 calls to <function recreate_function.<locals>.restored_function_body at 0x7fc1cd3ef320> triggered tf.function retracing. Tracing is expensive and the excessive number of tracings could be due to (1) creating @tf.function repeatedly in a loop, (2) passing tensors with different shapes, (3) passing Python objects instead of tensors. For (1), please define your @tf.function outside of the loop. For (2), @tf.function has experimental_relax_shapes=True option that relaxes argument shapes that can avoid unnecessary retracing. For (3), please refer to https://www.tensorflow.org/guide/function#controlling_retracing and https://www.tensorflow.org/api_docs/python/tf/function for  more details.\n"
          ],
          "name": "stdout"
        },
        {
          "output_type": "stream",
          "text": [
            "WARNING:tensorflow:7 out of the last 11 calls to <function recreate_function.<locals>.restored_function_body at 0x7fc1cd3ef320> triggered tf.function retracing. Tracing is expensive and the excessive number of tracings could be due to (1) creating @tf.function repeatedly in a loop, (2) passing tensors with different shapes, (3) passing Python objects instead of tensors. For (1), please define your @tf.function outside of the loop. For (2), @tf.function has experimental_relax_shapes=True option that relaxes argument shapes that can avoid unnecessary retracing. For (3), please refer to https://www.tensorflow.org/guide/function#controlling_retracing and https://www.tensorflow.org/api_docs/python/tf/function for  more details.\n"
          ],
          "name": "stderr"
        },
        {
          "output_type": "stream",
          "text": [
            "WARNING:tensorflow:7 out of the last 11 calls to <function recreate_function.<locals>.restored_function_body at 0x7fc1cc8af3b0> triggered tf.function retracing. Tracing is expensive and the excessive number of tracings could be due to (1) creating @tf.function repeatedly in a loop, (2) passing tensors with different shapes, (3) passing Python objects instead of tensors. For (1), please define your @tf.function outside of the loop. For (2), @tf.function has experimental_relax_shapes=True option that relaxes argument shapes that can avoid unnecessary retracing. For (3), please refer to https://www.tensorflow.org/guide/function#controlling_retracing and https://www.tensorflow.org/api_docs/python/tf/function for  more details.\n"
          ],
          "name": "stdout"
        },
        {
          "output_type": "stream",
          "text": [
            "WARNING:tensorflow:7 out of the last 11 calls to <function recreate_function.<locals>.restored_function_body at 0x7fc1cc8af3b0> triggered tf.function retracing. Tracing is expensive and the excessive number of tracings could be due to (1) creating @tf.function repeatedly in a loop, (2) passing tensors with different shapes, (3) passing Python objects instead of tensors. For (1), please define your @tf.function outside of the loop. For (2), @tf.function has experimental_relax_shapes=True option that relaxes argument shapes that can avoid unnecessary retracing. For (3), please refer to https://www.tensorflow.org/guide/function#controlling_retracing and https://www.tensorflow.org/api_docs/python/tf/function for  more details.\n"
          ],
          "name": "stderr"
        },
        {
          "output_type": "execute_result",
          "data": {
            "text/plain": [
              "<tf.Tensor: shape=(3, 128), dtype=float32, numpy=\n",
              "array([[ 9.56805944e-02,  2.25918502e-01,  3.47774744e-01,\n",
              "        -7.58143723e-01, -7.82843903e-02,  2.89071053e-01,\n",
              "         3.30699027e-01,  1.85379591e-02,  1.01473063e-01,\n",
              "         3.40128779e-01,  4.16684866e-01, -2.86378533e-01,\n",
              "         2.18599647e-01,  4.93880846e-02, -3.66776198e-01,\n",
              "        -1.01203315e-01,  2.97523081e-01,  2.09660545e-01,\n",
              "        -3.48484993e-01, -4.25969623e-02,  2.95357592e-03,\n",
              "        -3.50697100e-01,  2.63485849e-01,  3.45899910e-01,\n",
              "         2.11549550e-01, -2.53715932e-01,  3.87879699e-01,\n",
              "         3.31888169e-01, -6.06049657e-01, -6.09188341e-04,\n",
              "         2.15045482e-01,  1.12114958e-01, -2.15652436e-01,\n",
              "         3.83189946e-01, -1.46914786e-03, -1.99702218e-01,\n",
              "        -4.05131802e-02,  3.11892569e-01,  2.20485334e-03,\n",
              "         2.75814623e-01, -5.55936515e-01, -2.52874613e-01,\n",
              "        -4.18410331e-01,  1.92072317e-01,  3.21309775e-01,\n",
              "         8.58628377e-02, -3.65536541e-01,  6.47640824e-01,\n",
              "         2.24360451e-01,  3.28268409e-01,  4.29558605e-01,\n",
              "         2.51157116e-02, -3.85229945e-01, -2.24132180e-01,\n",
              "         2.31614560e-01,  2.92985737e-01,  2.24440083e-01,\n",
              "         7.50082657e-02,  1.95511341e-01,  9.58526805e-02,\n",
              "        -3.83024290e-02,  3.20575565e-01,  3.86494875e-01,\n",
              "        -1.53975919e-01,  1.13012996e-02,  2.35026687e-01,\n",
              "        -1.28214344e-01,  1.22969851e-01, -5.76764464e-01,\n",
              "         4.65645790e-01, -1.52362161e-03, -1.73946172e-01,\n",
              "        -3.81375686e-03, -1.44617915e-01,  1.75147459e-01,\n",
              "         3.17403167e-01, -1.20197453e-01, -8.96657817e-03,\n",
              "         6.82661831e-02, -2.81094890e-02,  1.58445969e-01,\n",
              "         2.01468676e-01,  3.38908404e-01, -3.96156073e-01,\n",
              "         4.02516872e-01, -1.39634684e-01, -1.36453658e-01,\n",
              "        -3.23750138e-01,  5.11928678e-01,  6.38734460e-01,\n",
              "         1.25478059e-01, -2.32940868e-01, -4.59679991e-01,\n",
              "        -9.64935794e-02,  2.10899770e-01,  1.61475360e-01,\n",
              "        -4.26502228e-01,  3.83863337e-02, -6.95239186e-01,\n",
              "        -3.33377272e-01, -2.46570989e-01, -5.64247482e-02,\n",
              "        -1.54930517e-01, -1.21831022e-01,  1.91329151e-01,\n",
              "        -3.95821899e-01,  8.60921666e-02,  3.93605411e-01,\n",
              "        -4.03386891e-01, -1.34169653e-01, -3.91739577e-01,\n",
              "        -1.27718113e-02, -1.66657120e-01, -1.26302063e-01,\n",
              "        -1.95890263e-01, -2.05739990e-01,  3.71893078e-01,\n",
              "        -1.04549244e-01, -1.07367046e-01, -9.93413553e-02,\n",
              "         1.07462592e-02, -1.27847299e-01, -9.49132815e-02,\n",
              "         9.37552527e-02,  7.27400258e-02,  1.27104387e-01,\n",
              "         2.26098672e-01, -4.61418539e-01],\n",
              "       [-2.22637936e-01,  9.23252329e-02,  9.08849463e-02,\n",
              "        -2.25316852e-01,  1.88163705e-02,  7.59430081e-02,\n",
              "        -1.62578318e-02, -1.57891382e-02, -6.68463483e-02,\n",
              "         2.41491705e-01,  2.24041253e-01,  5.36851026e-02,\n",
              "         2.65490890e-01,  2.73032151e-02, -2.12760083e-02,\n",
              "        -5.86849526e-02,  1.32408187e-01,  1.47834882e-01,\n",
              "         3.51548158e-02, -1.03607066e-01, -6.78829178e-02,\n",
              "        -2.28195876e-01,  7.98987374e-02,  4.76871170e-02,\n",
              "         1.45540133e-01, -2.70298366e-02,  2.59665512e-02,\n",
              "         1.54139578e-01, -3.63322765e-01,  1.88889578e-02,\n",
              "         3.36349219e-01,  1.17988840e-01, -9.38002318e-02,\n",
              "         2.65850313e-02, -1.11241035e-01,  6.58884346e-02,\n",
              "        -2.00468265e-02,  1.38774619e-01,  3.20932455e-02,\n",
              "         1.54162973e-01, -1.33916393e-01, -9.27649513e-02,\n",
              "        -2.38429993e-01,  3.89068052e-02,  8.02141875e-02,\n",
              "        -8.05815533e-02,  4.36373204e-02,  1.57580003e-01,\n",
              "        -1.61016181e-01,  1.63347021e-01, -9.08564627e-02,\n",
              "         1.69119522e-01, -1.41815603e-01, -9.71821696e-02,\n",
              "         1.43759072e-01,  1.93430632e-01,  9.02082697e-02,\n",
              "        -1.19643629e-01,  1.79751337e-01,  2.10905690e-02,\n",
              "        -9.50390995e-02,  1.13678314e-01,  1.68115810e-01,\n",
              "        -6.85598236e-03,  2.71960258e-01, -8.54986813e-03,\n",
              "         2.33055912e-02,  5.07598482e-02, -1.52740985e-01,\n",
              "         2.83509731e-01,  1.32628307e-01, -1.48574635e-01,\n",
              "         1.74356997e-01, -1.39347007e-02,  1.92367613e-01,\n",
              "         1.69524867e-02, -1.92625999e-01, -6.81344196e-02,\n",
              "         2.01359376e-01, -8.40155557e-02, -1.70194879e-01,\n",
              "        -8.45529046e-03,  1.66454375e-01,  1.37163728e-01,\n",
              "         2.34519735e-01, -1.83112353e-01,  3.74559201e-02,\n",
              "        -4.11681458e-02, -1.93803236e-01,  1.16499513e-01,\n",
              "         7.40349665e-02, -5.10690995e-02,  5.17509505e-02,\n",
              "        -2.14509796e-02, -8.50374699e-02,  1.10779122e-01,\n",
              "        -1.33958578e-01,  1.32396713e-01, -3.48056287e-01,\n",
              "        -6.80537075e-02, -5.02064787e-02,  1.03521878e-02,\n",
              "         4.01449203e-02, -3.45189736e-04, -1.60163995e-02,\n",
              "        -1.22386049e-02, -6.20664619e-02, -1.63270801e-01,\n",
              "        -1.31148487e-01, -9.50024463e-03, -1.24859437e-01,\n",
              "        -6.39476441e-03, -5.87733975e-03,  1.62837937e-01,\n",
              "        -2.84755856e-01, -1.52980745e-01, -4.61454690e-02,\n",
              "         6.47170246e-02, -1.77954569e-01, -6.92204908e-02,\n",
              "        -1.39234895e-02,  2.45119393e-01, -1.21114850e-01,\n",
              "        -6.96849823e-02, -5.60438819e-02,  1.43699139e-01,\n",
              "         4.24550064e-02, -2.53347009e-01],\n",
              "       [ 1.35870939e-02,  2.35947043e-01, -7.19273388e-02,\n",
              "        -2.02755094e-01,  5.31742759e-02, -5.20900451e-02,\n",
              "         1.08263388e-01, -1.62241414e-01, -5.63859120e-02,\n",
              "         2.55734622e-01,  1.25818714e-01,  3.76440622e-02,\n",
              "         1.28573447e-01,  1.01520211e-01, -7.99096823e-02,\n",
              "        -9.11113434e-03,  4.81497124e-02, -4.25331816e-02,\n",
              "        -1.63840130e-03, -4.71039191e-02,  2.72602513e-02,\n",
              "        -2.77215183e-01,  4.66623902e-02,  4.69387397e-02,\n",
              "         3.03632803e-02, -1.04888745e-01, -5.14455810e-02,\n",
              "         1.65326260e-02, -3.53341848e-01,  2.84820646e-02,\n",
              "         2.48637766e-01,  4.29349691e-02,  9.58886892e-02,\n",
              "         7.29451030e-02,  9.06261727e-02,  1.24457590e-01,\n",
              "        -1.10601895e-01,  1.51257440e-01, -1.33147724e-02,\n",
              "         1.88347474e-01, -7.45067894e-02, -1.66965052e-01,\n",
              "        -1.49786808e-02,  7.66029656e-02,  6.82842582e-02,\n",
              "         2.73754746e-02,  6.16474748e-02,  2.32989058e-01,\n",
              "        -6.41039163e-02, -3.70279625e-02,  7.09723383e-02,\n",
              "         8.12571030e-03, -2.13210240e-01, -1.08838290e-01,\n",
              "        -8.03395957e-02, -9.90591571e-02, -3.27408500e-02,\n",
              "        -9.71377343e-02, -9.91256349e-03,  1.90629825e-01,\n",
              "        -2.04763636e-01,  1.26228333e-01,  9.55284387e-03,\n",
              "        -1.73419133e-01,  1.64055899e-01,  8.05265270e-03,\n",
              "         2.30658595e-02, -8.56725574e-02, -9.94680673e-02,\n",
              "         9.98783633e-02,  1.09959915e-01, -5.56068495e-02,\n",
              "         5.38354665e-02,  5.51032424e-02,  1.29830334e-02,\n",
              "         9.53793228e-02, -1.23598523e-01, -1.21077552e-01,\n",
              "         8.97789896e-02,  1.36440530e-01, -9.99117047e-02,\n",
              "         6.13981374e-02,  2.05196235e-02,  2.46799011e-02,\n",
              "         1.43234739e-02, -1.49997801e-01, -3.12122088e-02,\n",
              "        -1.67974383e-02,  1.12110317e-01,  2.86960125e-01,\n",
              "        -4.78738099e-02, -1.64905101e-01, -6.62776083e-02,\n",
              "        -1.94738600e-02,  3.38457897e-02,  7.33674839e-02,\n",
              "        -5.90284988e-02,  3.85374948e-03, -2.99039543e-01,\n",
              "        -2.09903792e-02, -7.62185454e-03,  4.81674299e-02,\n",
              "         7.09919631e-02,  1.67255029e-02, -2.32083406e-02,\n",
              "         3.75620723e-02,  6.80480376e-02,  5.31290546e-02,\n",
              "        -1.35988265e-01, -1.20246142e-01, -2.04502225e-01,\n",
              "        -7.55527392e-02, -1.08965240e-01,  1.41819775e-01,\n",
              "        -7.37140328e-02, -2.00247020e-02,  5.76281510e-02,\n",
              "        -3.79843153e-02, -2.44534656e-01,  7.63798505e-02,\n",
              "        -4.44211140e-02,  5.87229058e-03,  8.48843344e-03,\n",
              "        -2.07164250e-02,  2.06295084e-02,  7.20451176e-02,\n",
              "         3.02491099e-01, -7.91173950e-02]], dtype=float32)>"
            ]
          },
          "metadata": {
            "tags": []
          },
          "execution_count": 81
        }
      ]
    },
    {
      "cell_type": "code",
      "metadata": {
        "id": "esSJoZRNOeNp"
      },
      "source": [
        "from sklearn.tree import DecisionTreeClassifier\n",
        "\n",
        "classifier = DecisionTreeClassifier()\n",
        "#classifier.fit(train_examples, train_labels)"
      ],
      "execution_count": 82,
      "outputs": []
    },
    {
      "cell_type": "code",
      "metadata": {
        "id": "bIKBjnkIO1R9"
      },
      "source": [
        ""
      ],
      "execution_count": 11,
      "outputs": []
    },
    {
      "cell_type": "code",
      "metadata": {
        "id": "zBbc9vMcO5qm"
      },
      "source": [
        "x_val = train_examples[:10000]\n",
        "partial_x_train = train_examples[10000:]\n",
        "\n",
        "y_val = train_labels[:10000]\n",
        "partial_y_train = train_labels[10000:]"
      ],
      "execution_count": 17,
      "outputs": []
    },
    {
      "cell_type": "code",
      "metadata": {
        "colab": {
          "base_uri": "https://localhost:8080/"
        },
        "id": "FKmnnMz5eUUW",
        "outputId": "403cf8e4-ab5c-4270-f12b-2c0fe576a32c"
      },
      "source": [
        "classifier.fit(hub_layer(train_examples), y_train)"
      ],
      "execution_count": 83,
      "outputs": [
        {
          "output_type": "execute_result",
          "data": {
            "text/plain": [
              "DecisionTreeClassifier(ccp_alpha=0.0, class_weight=None, criterion='gini',\n",
              "                       max_depth=None, max_features=None, max_leaf_nodes=None,\n",
              "                       min_impurity_decrease=0.0, min_impurity_split=None,\n",
              "                       min_samples_leaf=1, min_samples_split=2,\n",
              "                       min_weight_fraction_leaf=0.0, presort='deprecated',\n",
              "                       random_state=None, splitter='best')"
            ]
          },
          "metadata": {
            "tags": []
          },
          "execution_count": 83
        }
      ]
    },
    {
      "cell_type": "code",
      "metadata": {
        "colab": {
          "base_uri": "https://localhost:8080/"
        },
        "id": "LP8UvPdTPD-B",
        "outputId": "598a68f8-66e2-466d-c33b-68e96d55ea5a"
      },
      "source": [
        "test_val = np.array(hub_layer(test_examples))\n",
        "\n",
        "print(test_val[:10])"
      ],
      "execution_count": 84,
      "outputs": [
        {
          "output_type": "stream",
          "text": [
            "[[-0.17415719  0.15648328  0.07058448 ...  0.2796734   0.2078332\n",
            "  -0.02255717]\n",
            " [ 0.0087497   0.41769493 -0.07398774 ...  0.23198783  0.27141196\n",
            "  -0.12103764]\n",
            " [-0.04271145  0.08316807  0.04242535 ...  0.04279348  0.11769156\n",
            "  -0.03368118]\n",
            " ...\n",
            " [-0.08798662  0.10283965  0.32197246 ...  0.47170416  0.31466568\n",
            "  -0.48935458]\n",
            " [-0.32516715  0.25520375 -0.01478244 ...  0.2657958   0.46686307\n",
            "  -0.35476118]\n",
            " [-0.12329755  0.12927084  0.13055408 ...  0.06961498  0.2779784\n",
            "  -0.15353246]]\n"
          ],
          "name": "stdout"
        }
      ]
    },
    {
      "cell_type": "code",
      "metadata": {
        "id": "YUy99xaDehHL"
      },
      "source": [
        "y_pred = classifier.predict(test_val)"
      ],
      "execution_count": 85,
      "outputs": []
    },
    {
      "cell_type": "code",
      "metadata": {
        "colab": {
          "base_uri": "https://localhost:8080/"
        },
        "id": "2gzSCOEhUX0N",
        "outputId": "0a6d033f-8bcc-435b-83e1-009207ef1125"
      },
      "source": [
        "from sklearn.metrics import accuracy_score, confusion_matrix\n",
        "print(accuracy_score(test_labels, y_pred)*100,\"%\")\n",
        "print(confusion_matrix(test_labels, y_pred))"
      ],
      "execution_count": 86,
      "outputs": [
        {
          "output_type": "stream",
          "text": [
            "55.58594284151511 %\n",
            "[[2450 1501]\n",
            " [1747 1615]]\n"
          ],
          "name": "stdout"
        }
      ]
    },
    {
      "cell_type": "code",
      "metadata": {
        "id": "2LsqhWOKUZl6"
      },
      "source": [
        ""
      ],
      "execution_count": null,
      "outputs": []
    }
  ]
}